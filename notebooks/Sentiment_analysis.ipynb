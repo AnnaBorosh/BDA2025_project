{
  "cells": [
    {
      "cell_type": "markdown",
      "metadata": {
        "id": "ziwNwPnJSecG"
      },
      "source": [
        "# Training and evaluating models"
      ]
    },
    {
      "cell_type": "code",
      "execution_count": 2,
      "metadata": {
        "id": "g3Lb4CWEYDHu"
      },
      "outputs": [],
      "source": [
        "import pandas as pd\n",
        "import numpy as np\n",
        "from sklearn.metrics import f1_score\n",
        "from sklearn.metrics import confusion_matrix, ConfusionMatrixDisplay"
      ]
    },
    {
      "cell_type": "code",
      "execution_count": 3,
      "metadata": {
        "colab": {
          "base_uri": "https://localhost:8080/"
        },
        "id": "N6-9nIYnaHMr",
        "outputId": "73c72699-ef0d-441c-980f-fd613752c8c7"
      },
      "outputs": [
        {
          "output_type": "stream",
          "name": "stdout",
          "text": [
            "GPU is not available, using CPU instead\n"
          ]
        }
      ],
      "source": [
        "import torch\n",
        "\n",
        "if torch.cuda.is_available():\n",
        "    print(\"GPU is available\")\n",
        "    device = torch.device(\"cuda\")\n",
        "else:\n",
        "    print(\"GPU is not available, using CPU instead\")\n",
        "    device = torch.device(\"cpu\")"
      ]
    },
    {
      "cell_type": "code",
      "execution_count": 4,
      "metadata": {
        "colab": {
          "base_uri": "https://localhost:8080/"
        },
        "id": "FDAmt8tIYOBv",
        "outputId": "ded56827-8bf8-4501-aa24-1cb821ec2ded"
      },
      "outputs": [
        {
          "output_type": "stream",
          "name": "stdout",
          "text": [
            "Mounted at /content/drive\n"
          ]
        }
      ],
      "source": [
        "from google.colab import drive\n",
        "\n",
        "drive.mount('/content/drive')"
      ]
    },
    {
      "cell_type": "code",
      "execution_count": 5,
      "metadata": {
        "colab": {
          "base_uri": "https://localhost:8080/",
          "height": 206
        },
        "id": "EEiIQIJOYPgF",
        "outputId": "16f2eb9e-4381-4f51-b255-584e6093ef50"
      },
      "outputs": [
        {
          "output_type": "execute_result",
          "data": {
            "text/plain": [
              "                                                Text Sentiment\n",
              "0  still news roomhowever audio turn around grabb...   Neutral\n",
              "1  saw fleetwood mac im insanely jealous dont eno...  Negative\n",
              "2  theres one thing hate friends dats move skl fo...  Negative\n",
              "3       think cheap sunglasses falling apart oh well  Negative\n",
              "4                       please read blog im best day  Negative"
            ],
            "text/html": [
              "\n",
              "  <div id=\"df-e61793a1-f381-40dc-af66-9d663f2724ff\" class=\"colab-df-container\">\n",
              "    <div>\n",
              "<style scoped>\n",
              "    .dataframe tbody tr th:only-of-type {\n",
              "        vertical-align: middle;\n",
              "    }\n",
              "\n",
              "    .dataframe tbody tr th {\n",
              "        vertical-align: top;\n",
              "    }\n",
              "\n",
              "    .dataframe thead th {\n",
              "        text-align: right;\n",
              "    }\n",
              "</style>\n",
              "<table border=\"1\" class=\"dataframe\">\n",
              "  <thead>\n",
              "    <tr style=\"text-align: right;\">\n",
              "      <th></th>\n",
              "      <th>Text</th>\n",
              "      <th>Sentiment</th>\n",
              "    </tr>\n",
              "  </thead>\n",
              "  <tbody>\n",
              "    <tr>\n",
              "      <th>0</th>\n",
              "      <td>still news roomhowever audio turn around grabb...</td>\n",
              "      <td>Neutral</td>\n",
              "    </tr>\n",
              "    <tr>\n",
              "      <th>1</th>\n",
              "      <td>saw fleetwood mac im insanely jealous dont eno...</td>\n",
              "      <td>Negative</td>\n",
              "    </tr>\n",
              "    <tr>\n",
              "      <th>2</th>\n",
              "      <td>theres one thing hate friends dats move skl fo...</td>\n",
              "      <td>Negative</td>\n",
              "    </tr>\n",
              "    <tr>\n",
              "      <th>3</th>\n",
              "      <td>think cheap sunglasses falling apart oh well</td>\n",
              "      <td>Negative</td>\n",
              "    </tr>\n",
              "    <tr>\n",
              "      <th>4</th>\n",
              "      <td>please read blog im best day</td>\n",
              "      <td>Negative</td>\n",
              "    </tr>\n",
              "  </tbody>\n",
              "</table>\n",
              "</div>\n",
              "    <div class=\"colab-df-buttons\">\n",
              "\n",
              "  <div class=\"colab-df-container\">\n",
              "    <button class=\"colab-df-convert\" onclick=\"convertToInteractive('df-e61793a1-f381-40dc-af66-9d663f2724ff')\"\n",
              "            title=\"Convert this dataframe to an interactive table.\"\n",
              "            style=\"display:none;\">\n",
              "\n",
              "  <svg xmlns=\"http://www.w3.org/2000/svg\" height=\"24px\" viewBox=\"0 -960 960 960\">\n",
              "    <path d=\"M120-120v-720h720v720H120Zm60-500h600v-160H180v160Zm220 220h160v-160H400v160Zm0 220h160v-160H400v160ZM180-400h160v-160H180v160Zm440 0h160v-160H620v160ZM180-180h160v-160H180v160Zm440 0h160v-160H620v160Z\"/>\n",
              "  </svg>\n",
              "    </button>\n",
              "\n",
              "  <style>\n",
              "    .colab-df-container {\n",
              "      display:flex;\n",
              "      gap: 12px;\n",
              "    }\n",
              "\n",
              "    .colab-df-convert {\n",
              "      background-color: #E8F0FE;\n",
              "      border: none;\n",
              "      border-radius: 50%;\n",
              "      cursor: pointer;\n",
              "      display: none;\n",
              "      fill: #1967D2;\n",
              "      height: 32px;\n",
              "      padding: 0 0 0 0;\n",
              "      width: 32px;\n",
              "    }\n",
              "\n",
              "    .colab-df-convert:hover {\n",
              "      background-color: #E2EBFA;\n",
              "      box-shadow: 0px 1px 2px rgba(60, 64, 67, 0.3), 0px 1px 3px 1px rgba(60, 64, 67, 0.15);\n",
              "      fill: #174EA6;\n",
              "    }\n",
              "\n",
              "    .colab-df-buttons div {\n",
              "      margin-bottom: 4px;\n",
              "    }\n",
              "\n",
              "    [theme=dark] .colab-df-convert {\n",
              "      background-color: #3B4455;\n",
              "      fill: #D2E3FC;\n",
              "    }\n",
              "\n",
              "    [theme=dark] .colab-df-convert:hover {\n",
              "      background-color: #434B5C;\n",
              "      box-shadow: 0px 1px 3px 1px rgba(0, 0, 0, 0.15);\n",
              "      filter: drop-shadow(0px 1px 2px rgba(0, 0, 0, 0.3));\n",
              "      fill: #FFFFFF;\n",
              "    }\n",
              "  </style>\n",
              "\n",
              "    <script>\n",
              "      const buttonEl =\n",
              "        document.querySelector('#df-e61793a1-f381-40dc-af66-9d663f2724ff button.colab-df-convert');\n",
              "      buttonEl.style.display =\n",
              "        google.colab.kernel.accessAllowed ? 'block' : 'none';\n",
              "\n",
              "      async function convertToInteractive(key) {\n",
              "        const element = document.querySelector('#df-e61793a1-f381-40dc-af66-9d663f2724ff');\n",
              "        const dataTable =\n",
              "          await google.colab.kernel.invokeFunction('convertToInteractive',\n",
              "                                                    [key], {});\n",
              "        if (!dataTable) return;\n",
              "\n",
              "        const docLinkHtml = 'Like what you see? Visit the ' +\n",
              "          '<a target=\"_blank\" href=https://colab.research.google.com/notebooks/data_table.ipynb>data table notebook</a>'\n",
              "          + ' to learn more about interactive tables.';\n",
              "        element.innerHTML = '';\n",
              "        dataTable['output_type'] = 'display_data';\n",
              "        await google.colab.output.renderOutput(dataTable, element);\n",
              "        const docLink = document.createElement('div');\n",
              "        docLink.innerHTML = docLinkHtml;\n",
              "        element.appendChild(docLink);\n",
              "      }\n",
              "    </script>\n",
              "  </div>\n",
              "\n",
              "\n",
              "    <div id=\"df-b8cb694c-9056-4f89-8a97-d0578ee6676c\">\n",
              "      <button class=\"colab-df-quickchart\" onclick=\"quickchart('df-b8cb694c-9056-4f89-8a97-d0578ee6676c')\"\n",
              "                title=\"Suggest charts\"\n",
              "                style=\"display:none;\">\n",
              "\n",
              "<svg xmlns=\"http://www.w3.org/2000/svg\" height=\"24px\"viewBox=\"0 0 24 24\"\n",
              "     width=\"24px\">\n",
              "    <g>\n",
              "        <path d=\"M19 3H5c-1.1 0-2 .9-2 2v14c0 1.1.9 2 2 2h14c1.1 0 2-.9 2-2V5c0-1.1-.9-2-2-2zM9 17H7v-7h2v7zm4 0h-2V7h2v10zm4 0h-2v-4h2v4z\"/>\n",
              "    </g>\n",
              "</svg>\n",
              "      </button>\n",
              "\n",
              "<style>\n",
              "  .colab-df-quickchart {\n",
              "      --bg-color: #E8F0FE;\n",
              "      --fill-color: #1967D2;\n",
              "      --hover-bg-color: #E2EBFA;\n",
              "      --hover-fill-color: #174EA6;\n",
              "      --disabled-fill-color: #AAA;\n",
              "      --disabled-bg-color: #DDD;\n",
              "  }\n",
              "\n",
              "  [theme=dark] .colab-df-quickchart {\n",
              "      --bg-color: #3B4455;\n",
              "      --fill-color: #D2E3FC;\n",
              "      --hover-bg-color: #434B5C;\n",
              "      --hover-fill-color: #FFFFFF;\n",
              "      --disabled-bg-color: #3B4455;\n",
              "      --disabled-fill-color: #666;\n",
              "  }\n",
              "\n",
              "  .colab-df-quickchart {\n",
              "    background-color: var(--bg-color);\n",
              "    border: none;\n",
              "    border-radius: 50%;\n",
              "    cursor: pointer;\n",
              "    display: none;\n",
              "    fill: var(--fill-color);\n",
              "    height: 32px;\n",
              "    padding: 0;\n",
              "    width: 32px;\n",
              "  }\n",
              "\n",
              "  .colab-df-quickchart:hover {\n",
              "    background-color: var(--hover-bg-color);\n",
              "    box-shadow: 0 1px 2px rgba(60, 64, 67, 0.3), 0 1px 3px 1px rgba(60, 64, 67, 0.15);\n",
              "    fill: var(--button-hover-fill-color);\n",
              "  }\n",
              "\n",
              "  .colab-df-quickchart-complete:disabled,\n",
              "  .colab-df-quickchart-complete:disabled:hover {\n",
              "    background-color: var(--disabled-bg-color);\n",
              "    fill: var(--disabled-fill-color);\n",
              "    box-shadow: none;\n",
              "  }\n",
              "\n",
              "  .colab-df-spinner {\n",
              "    border: 2px solid var(--fill-color);\n",
              "    border-color: transparent;\n",
              "    border-bottom-color: var(--fill-color);\n",
              "    animation:\n",
              "      spin 1s steps(1) infinite;\n",
              "  }\n",
              "\n",
              "  @keyframes spin {\n",
              "    0% {\n",
              "      border-color: transparent;\n",
              "      border-bottom-color: var(--fill-color);\n",
              "      border-left-color: var(--fill-color);\n",
              "    }\n",
              "    20% {\n",
              "      border-color: transparent;\n",
              "      border-left-color: var(--fill-color);\n",
              "      border-top-color: var(--fill-color);\n",
              "    }\n",
              "    30% {\n",
              "      border-color: transparent;\n",
              "      border-left-color: var(--fill-color);\n",
              "      border-top-color: var(--fill-color);\n",
              "      border-right-color: var(--fill-color);\n",
              "    }\n",
              "    40% {\n",
              "      border-color: transparent;\n",
              "      border-right-color: var(--fill-color);\n",
              "      border-top-color: var(--fill-color);\n",
              "    }\n",
              "    60% {\n",
              "      border-color: transparent;\n",
              "      border-right-color: var(--fill-color);\n",
              "    }\n",
              "    80% {\n",
              "      border-color: transparent;\n",
              "      border-right-color: var(--fill-color);\n",
              "      border-bottom-color: var(--fill-color);\n",
              "    }\n",
              "    90% {\n",
              "      border-color: transparent;\n",
              "      border-bottom-color: var(--fill-color);\n",
              "    }\n",
              "  }\n",
              "</style>\n",
              "\n",
              "      <script>\n",
              "        async function quickchart(key) {\n",
              "          const quickchartButtonEl =\n",
              "            document.querySelector('#' + key + ' button');\n",
              "          quickchartButtonEl.disabled = true;  // To prevent multiple clicks.\n",
              "          quickchartButtonEl.classList.add('colab-df-spinner');\n",
              "          try {\n",
              "            const charts = await google.colab.kernel.invokeFunction(\n",
              "                'suggestCharts', [key], {});\n",
              "          } catch (error) {\n",
              "            console.error('Error during call to suggestCharts:', error);\n",
              "          }\n",
              "          quickchartButtonEl.classList.remove('colab-df-spinner');\n",
              "          quickchartButtonEl.classList.add('colab-df-quickchart-complete');\n",
              "        }\n",
              "        (() => {\n",
              "          let quickchartButtonEl =\n",
              "            document.querySelector('#df-b8cb694c-9056-4f89-8a97-d0578ee6676c button');\n",
              "          quickchartButtonEl.style.display =\n",
              "            google.colab.kernel.accessAllowed ? 'block' : 'none';\n",
              "        })();\n",
              "      </script>\n",
              "    </div>\n",
              "\n",
              "    </div>\n",
              "  </div>\n"
            ],
            "application/vnd.google.colaboratory.intrinsic+json": {
              "type": "dataframe",
              "variable_name": "data",
              "summary": "{\n  \"name\": \"data\",\n  \"rows\": 23634,\n  \"fields\": [\n    {\n      \"column\": \"Text\",\n      \"properties\": {\n        \"dtype\": \"string\",\n        \"num_unique_values\": 23210,\n        \"samples\": [\n          \"everybody welcome hello nicole\",\n          \"first time\",\n          \"im surrounded negativity good thing fly guy give hope something better thank u jesus\"\n        ],\n        \"semantic_type\": \"\",\n        \"description\": \"\"\n      }\n    },\n    {\n      \"column\": \"Sentiment\",\n      \"properties\": {\n        \"dtype\": \"category\",\n        \"num_unique_values\": 3,\n        \"samples\": [\n          \"Neutral\",\n          \"Negative\",\n          \"Positive\"\n        ],\n        \"semantic_type\": \"\",\n        \"description\": \"\"\n      }\n    }\n  ]\n}"
            }
          },
          "metadata": {},
          "execution_count": 5
        }
      ],
      "source": [
        "data = pd.read_csv('drive/My Drive/Konspektid Magister/Semester 2./Ärianalüütika/BDA Project/Datasets/preprocessed_data_added.csv')\n",
        "data.head()"
      ]
    },
    {
      "cell_type": "code",
      "execution_count": 7,
      "metadata": {
        "id": "jrW9RFjeSecM",
        "outputId": "2594a178-2819-4ea0-b7a5-b8718c082a6c",
        "colab": {
          "base_uri": "https://localhost:8080/",
          "height": 424
        }
      },
      "outputs": [
        {
          "output_type": "execute_result",
          "data": {
            "text/plain": [
              "                                                    Text Sentiment\n",
              "0      still news roomhowever audio turn around grabb...   Neutral\n",
              "1      saw fleetwood mac im insanely jealous dont eno...  Negative\n",
              "2      theres one thing hate friends dats move skl fo...  Negative\n",
              "3           think cheap sunglasses falling apart oh well  Negative\n",
              "4                           please read blog im best day  Negative\n",
              "...                                                  ...       ...\n",
              "23629  haha know work blip apart obvious thanks rebli...  Positive\n",
              "23630  noooo ill miss much went stag prom high school...  Negative\n",
              "23631  sign tarte news intro newsletter 20 first purc...   Neutral\n",
              "23632  prayin dad wellington fl via live welly may pr...  Positive\n",
              "23633  unfortunetly wish mean sometimes like twice yr...  Negative\n",
              "\n",
              "[23634 rows x 2 columns]"
            ],
            "text/html": [
              "\n",
              "  <div id=\"df-cce8df2c-107f-48f6-99f2-a8ca84daa070\" class=\"colab-df-container\">\n",
              "    <div>\n",
              "<style scoped>\n",
              "    .dataframe tbody tr th:only-of-type {\n",
              "        vertical-align: middle;\n",
              "    }\n",
              "\n",
              "    .dataframe tbody tr th {\n",
              "        vertical-align: top;\n",
              "    }\n",
              "\n",
              "    .dataframe thead th {\n",
              "        text-align: right;\n",
              "    }\n",
              "</style>\n",
              "<table border=\"1\" class=\"dataframe\">\n",
              "  <thead>\n",
              "    <tr style=\"text-align: right;\">\n",
              "      <th></th>\n",
              "      <th>Text</th>\n",
              "      <th>Sentiment</th>\n",
              "    </tr>\n",
              "  </thead>\n",
              "  <tbody>\n",
              "    <tr>\n",
              "      <th>0</th>\n",
              "      <td>still news roomhowever audio turn around grabb...</td>\n",
              "      <td>Neutral</td>\n",
              "    </tr>\n",
              "    <tr>\n",
              "      <th>1</th>\n",
              "      <td>saw fleetwood mac im insanely jealous dont eno...</td>\n",
              "      <td>Negative</td>\n",
              "    </tr>\n",
              "    <tr>\n",
              "      <th>2</th>\n",
              "      <td>theres one thing hate friends dats move skl fo...</td>\n",
              "      <td>Negative</td>\n",
              "    </tr>\n",
              "    <tr>\n",
              "      <th>3</th>\n",
              "      <td>think cheap sunglasses falling apart oh well</td>\n",
              "      <td>Negative</td>\n",
              "    </tr>\n",
              "    <tr>\n",
              "      <th>4</th>\n",
              "      <td>please read blog im best day</td>\n",
              "      <td>Negative</td>\n",
              "    </tr>\n",
              "    <tr>\n",
              "      <th>...</th>\n",
              "      <td>...</td>\n",
              "      <td>...</td>\n",
              "    </tr>\n",
              "    <tr>\n",
              "      <th>23629</th>\n",
              "      <td>haha know work blip apart obvious thanks rebli...</td>\n",
              "      <td>Positive</td>\n",
              "    </tr>\n",
              "    <tr>\n",
              "      <th>23630</th>\n",
              "      <td>noooo ill miss much went stag prom high school...</td>\n",
              "      <td>Negative</td>\n",
              "    </tr>\n",
              "    <tr>\n",
              "      <th>23631</th>\n",
              "      <td>sign tarte news intro newsletter 20 first purc...</td>\n",
              "      <td>Neutral</td>\n",
              "    </tr>\n",
              "    <tr>\n",
              "      <th>23632</th>\n",
              "      <td>prayin dad wellington fl via live welly may pr...</td>\n",
              "      <td>Positive</td>\n",
              "    </tr>\n",
              "    <tr>\n",
              "      <th>23633</th>\n",
              "      <td>unfortunetly wish mean sometimes like twice yr...</td>\n",
              "      <td>Negative</td>\n",
              "    </tr>\n",
              "  </tbody>\n",
              "</table>\n",
              "<p>23634 rows × 2 columns</p>\n",
              "</div>\n",
              "    <div class=\"colab-df-buttons\">\n",
              "\n",
              "  <div class=\"colab-df-container\">\n",
              "    <button class=\"colab-df-convert\" onclick=\"convertToInteractive('df-cce8df2c-107f-48f6-99f2-a8ca84daa070')\"\n",
              "            title=\"Convert this dataframe to an interactive table.\"\n",
              "            style=\"display:none;\">\n",
              "\n",
              "  <svg xmlns=\"http://www.w3.org/2000/svg\" height=\"24px\" viewBox=\"0 -960 960 960\">\n",
              "    <path d=\"M120-120v-720h720v720H120Zm60-500h600v-160H180v160Zm220 220h160v-160H400v160Zm0 220h160v-160H400v160ZM180-400h160v-160H180v160Zm440 0h160v-160H620v160ZM180-180h160v-160H180v160Zm440 0h160v-160H620v160Z\"/>\n",
              "  </svg>\n",
              "    </button>\n",
              "\n",
              "  <style>\n",
              "    .colab-df-container {\n",
              "      display:flex;\n",
              "      gap: 12px;\n",
              "    }\n",
              "\n",
              "    .colab-df-convert {\n",
              "      background-color: #E8F0FE;\n",
              "      border: none;\n",
              "      border-radius: 50%;\n",
              "      cursor: pointer;\n",
              "      display: none;\n",
              "      fill: #1967D2;\n",
              "      height: 32px;\n",
              "      padding: 0 0 0 0;\n",
              "      width: 32px;\n",
              "    }\n",
              "\n",
              "    .colab-df-convert:hover {\n",
              "      background-color: #E2EBFA;\n",
              "      box-shadow: 0px 1px 2px rgba(60, 64, 67, 0.3), 0px 1px 3px 1px rgba(60, 64, 67, 0.15);\n",
              "      fill: #174EA6;\n",
              "    }\n",
              "\n",
              "    .colab-df-buttons div {\n",
              "      margin-bottom: 4px;\n",
              "    }\n",
              "\n",
              "    [theme=dark] .colab-df-convert {\n",
              "      background-color: #3B4455;\n",
              "      fill: #D2E3FC;\n",
              "    }\n",
              "\n",
              "    [theme=dark] .colab-df-convert:hover {\n",
              "      background-color: #434B5C;\n",
              "      box-shadow: 0px 1px 3px 1px rgba(0, 0, 0, 0.15);\n",
              "      filter: drop-shadow(0px 1px 2px rgba(0, 0, 0, 0.3));\n",
              "      fill: #FFFFFF;\n",
              "    }\n",
              "  </style>\n",
              "\n",
              "    <script>\n",
              "      const buttonEl =\n",
              "        document.querySelector('#df-cce8df2c-107f-48f6-99f2-a8ca84daa070 button.colab-df-convert');\n",
              "      buttonEl.style.display =\n",
              "        google.colab.kernel.accessAllowed ? 'block' : 'none';\n",
              "\n",
              "      async function convertToInteractive(key) {\n",
              "        const element = document.querySelector('#df-cce8df2c-107f-48f6-99f2-a8ca84daa070');\n",
              "        const dataTable =\n",
              "          await google.colab.kernel.invokeFunction('convertToInteractive',\n",
              "                                                    [key], {});\n",
              "        if (!dataTable) return;\n",
              "\n",
              "        const docLinkHtml = 'Like what you see? Visit the ' +\n",
              "          '<a target=\"_blank\" href=https://colab.research.google.com/notebooks/data_table.ipynb>data table notebook</a>'\n",
              "          + ' to learn more about interactive tables.';\n",
              "        element.innerHTML = '';\n",
              "        dataTable['output_type'] = 'display_data';\n",
              "        await google.colab.output.renderOutput(dataTable, element);\n",
              "        const docLink = document.createElement('div');\n",
              "        docLink.innerHTML = docLinkHtml;\n",
              "        element.appendChild(docLink);\n",
              "      }\n",
              "    </script>\n",
              "  </div>\n",
              "\n",
              "\n",
              "    <div id=\"df-8a2bf167-07c9-4c7c-bc48-b849115f1a05\">\n",
              "      <button class=\"colab-df-quickchart\" onclick=\"quickchart('df-8a2bf167-07c9-4c7c-bc48-b849115f1a05')\"\n",
              "                title=\"Suggest charts\"\n",
              "                style=\"display:none;\">\n",
              "\n",
              "<svg xmlns=\"http://www.w3.org/2000/svg\" height=\"24px\"viewBox=\"0 0 24 24\"\n",
              "     width=\"24px\">\n",
              "    <g>\n",
              "        <path d=\"M19 3H5c-1.1 0-2 .9-2 2v14c0 1.1.9 2 2 2h14c1.1 0 2-.9 2-2V5c0-1.1-.9-2-2-2zM9 17H7v-7h2v7zm4 0h-2V7h2v10zm4 0h-2v-4h2v4z\"/>\n",
              "    </g>\n",
              "</svg>\n",
              "      </button>\n",
              "\n",
              "<style>\n",
              "  .colab-df-quickchart {\n",
              "      --bg-color: #E8F0FE;\n",
              "      --fill-color: #1967D2;\n",
              "      --hover-bg-color: #E2EBFA;\n",
              "      --hover-fill-color: #174EA6;\n",
              "      --disabled-fill-color: #AAA;\n",
              "      --disabled-bg-color: #DDD;\n",
              "  }\n",
              "\n",
              "  [theme=dark] .colab-df-quickchart {\n",
              "      --bg-color: #3B4455;\n",
              "      --fill-color: #D2E3FC;\n",
              "      --hover-bg-color: #434B5C;\n",
              "      --hover-fill-color: #FFFFFF;\n",
              "      --disabled-bg-color: #3B4455;\n",
              "      --disabled-fill-color: #666;\n",
              "  }\n",
              "\n",
              "  .colab-df-quickchart {\n",
              "    background-color: var(--bg-color);\n",
              "    border: none;\n",
              "    border-radius: 50%;\n",
              "    cursor: pointer;\n",
              "    display: none;\n",
              "    fill: var(--fill-color);\n",
              "    height: 32px;\n",
              "    padding: 0;\n",
              "    width: 32px;\n",
              "  }\n",
              "\n",
              "  .colab-df-quickchart:hover {\n",
              "    background-color: var(--hover-bg-color);\n",
              "    box-shadow: 0 1px 2px rgba(60, 64, 67, 0.3), 0 1px 3px 1px rgba(60, 64, 67, 0.15);\n",
              "    fill: var(--button-hover-fill-color);\n",
              "  }\n",
              "\n",
              "  .colab-df-quickchart-complete:disabled,\n",
              "  .colab-df-quickchart-complete:disabled:hover {\n",
              "    background-color: var(--disabled-bg-color);\n",
              "    fill: var(--disabled-fill-color);\n",
              "    box-shadow: none;\n",
              "  }\n",
              "\n",
              "  .colab-df-spinner {\n",
              "    border: 2px solid var(--fill-color);\n",
              "    border-color: transparent;\n",
              "    border-bottom-color: var(--fill-color);\n",
              "    animation:\n",
              "      spin 1s steps(1) infinite;\n",
              "  }\n",
              "\n",
              "  @keyframes spin {\n",
              "    0% {\n",
              "      border-color: transparent;\n",
              "      border-bottom-color: var(--fill-color);\n",
              "      border-left-color: var(--fill-color);\n",
              "    }\n",
              "    20% {\n",
              "      border-color: transparent;\n",
              "      border-left-color: var(--fill-color);\n",
              "      border-top-color: var(--fill-color);\n",
              "    }\n",
              "    30% {\n",
              "      border-color: transparent;\n",
              "      border-left-color: var(--fill-color);\n",
              "      border-top-color: var(--fill-color);\n",
              "      border-right-color: var(--fill-color);\n",
              "    }\n",
              "    40% {\n",
              "      border-color: transparent;\n",
              "      border-right-color: var(--fill-color);\n",
              "      border-top-color: var(--fill-color);\n",
              "    }\n",
              "    60% {\n",
              "      border-color: transparent;\n",
              "      border-right-color: var(--fill-color);\n",
              "    }\n",
              "    80% {\n",
              "      border-color: transparent;\n",
              "      border-right-color: var(--fill-color);\n",
              "      border-bottom-color: var(--fill-color);\n",
              "    }\n",
              "    90% {\n",
              "      border-color: transparent;\n",
              "      border-bottom-color: var(--fill-color);\n",
              "    }\n",
              "  }\n",
              "</style>\n",
              "\n",
              "      <script>\n",
              "        async function quickchart(key) {\n",
              "          const quickchartButtonEl =\n",
              "            document.querySelector('#' + key + ' button');\n",
              "          quickchartButtonEl.disabled = true;  // To prevent multiple clicks.\n",
              "          quickchartButtonEl.classList.add('colab-df-spinner');\n",
              "          try {\n",
              "            const charts = await google.colab.kernel.invokeFunction(\n",
              "                'suggestCharts', [key], {});\n",
              "          } catch (error) {\n",
              "            console.error('Error during call to suggestCharts:', error);\n",
              "          }\n",
              "          quickchartButtonEl.classList.remove('colab-df-spinner');\n",
              "          quickchartButtonEl.classList.add('colab-df-quickchart-complete');\n",
              "        }\n",
              "        (() => {\n",
              "          let quickchartButtonEl =\n",
              "            document.querySelector('#df-8a2bf167-07c9-4c7c-bc48-b849115f1a05 button');\n",
              "          quickchartButtonEl.style.display =\n",
              "            google.colab.kernel.accessAllowed ? 'block' : 'none';\n",
              "        })();\n",
              "      </script>\n",
              "    </div>\n",
              "\n",
              "  <div id=\"id_7fd8d2b4-6c9c-4985-a742-a3635be5c304\">\n",
              "    <style>\n",
              "      .colab-df-generate {\n",
              "        background-color: #E8F0FE;\n",
              "        border: none;\n",
              "        border-radius: 50%;\n",
              "        cursor: pointer;\n",
              "        display: none;\n",
              "        fill: #1967D2;\n",
              "        height: 32px;\n",
              "        padding: 0 0 0 0;\n",
              "        width: 32px;\n",
              "      }\n",
              "\n",
              "      .colab-df-generate:hover {\n",
              "        background-color: #E2EBFA;\n",
              "        box-shadow: 0px 1px 2px rgba(60, 64, 67, 0.3), 0px 1px 3px 1px rgba(60, 64, 67, 0.15);\n",
              "        fill: #174EA6;\n",
              "      }\n",
              "\n",
              "      [theme=dark] .colab-df-generate {\n",
              "        background-color: #3B4455;\n",
              "        fill: #D2E3FC;\n",
              "      }\n",
              "\n",
              "      [theme=dark] .colab-df-generate:hover {\n",
              "        background-color: #434B5C;\n",
              "        box-shadow: 0px 1px 3px 1px rgba(0, 0, 0, 0.15);\n",
              "        filter: drop-shadow(0px 1px 2px rgba(0, 0, 0, 0.3));\n",
              "        fill: #FFFFFF;\n",
              "      }\n",
              "    </style>\n",
              "    <button class=\"colab-df-generate\" onclick=\"generateWithVariable('data')\"\n",
              "            title=\"Generate code using this dataframe.\"\n",
              "            style=\"display:none;\">\n",
              "\n",
              "  <svg xmlns=\"http://www.w3.org/2000/svg\" height=\"24px\"viewBox=\"0 0 24 24\"\n",
              "       width=\"24px\">\n",
              "    <path d=\"M7,19H8.4L18.45,9,17,7.55,7,17.6ZM5,21V16.75L18.45,3.32a2,2,0,0,1,2.83,0l1.4,1.43a1.91,1.91,0,0,1,.58,1.4,1.91,1.91,0,0,1-.58,1.4L9.25,21ZM18.45,9,17,7.55Zm-12,3A5.31,5.31,0,0,0,4.9,8.1,5.31,5.31,0,0,0,1,6.5,5.31,5.31,0,0,0,4.9,4.9,5.31,5.31,0,0,0,6.5,1,5.31,5.31,0,0,0,8.1,4.9,5.31,5.31,0,0,0,12,6.5,5.46,5.46,0,0,0,6.5,12Z\"/>\n",
              "  </svg>\n",
              "    </button>\n",
              "    <script>\n",
              "      (() => {\n",
              "      const buttonEl =\n",
              "        document.querySelector('#id_7fd8d2b4-6c9c-4985-a742-a3635be5c304 button.colab-df-generate');\n",
              "      buttonEl.style.display =\n",
              "        google.colab.kernel.accessAllowed ? 'block' : 'none';\n",
              "\n",
              "      buttonEl.onclick = () => {\n",
              "        google.colab.notebook.generateWithVariable('data');\n",
              "      }\n",
              "      })();\n",
              "    </script>\n",
              "  </div>\n",
              "\n",
              "    </div>\n",
              "  </div>\n"
            ],
            "application/vnd.google.colaboratory.intrinsic+json": {
              "type": "dataframe",
              "variable_name": "data",
              "summary": "{\n  \"name\": \"data\",\n  \"rows\": 23634,\n  \"fields\": [\n    {\n      \"column\": \"Text\",\n      \"properties\": {\n        \"dtype\": \"string\",\n        \"num_unique_values\": 23210,\n        \"samples\": [\n          \"everybody welcome hello nicole\",\n          \"first time\",\n          \"im surrounded negativity good thing fly guy give hope something better thank u jesus\"\n        ],\n        \"semantic_type\": \"\",\n        \"description\": \"\"\n      }\n    },\n    {\n      \"column\": \"Sentiment\",\n      \"properties\": {\n        \"dtype\": \"category\",\n        \"num_unique_values\": 3,\n        \"samples\": [\n          \"Neutral\",\n          \"Negative\",\n          \"Positive\"\n        ],\n        \"semantic_type\": \"\",\n        \"description\": \"\"\n      }\n    }\n  ]\n}"
            }
          },
          "metadata": {},
          "execution_count": 7
        }
      ],
      "source": [
        "data = pd.read_csv('drive/My Drive/Konspektid Magister/Semester 2./Ärianalüütika/BDA Project/Datasets/preprocessed_data_added.csv')\n",
        "data"
      ]
    },
    {
      "cell_type": "code",
      "execution_count": 8,
      "metadata": {
        "colab": {
          "base_uri": "https://localhost:8080/"
        },
        "id": "pOwjPWDjTkXE",
        "outputId": "34076829-46ae-46da-f76b-55363651d5d3"
      },
      "outputs": [
        {
          "output_type": "execute_result",
          "data": {
            "text/plain": [
              "array(['Neutral', 'Negative', 'Positive'], dtype=object)"
            ]
          },
          "metadata": {},
          "execution_count": 8
        }
      ],
      "source": [
        "data['Sentiment'].unique()"
      ]
    },
    {
      "cell_type": "code",
      "execution_count": 9,
      "metadata": {
        "colab": {
          "base_uri": "https://localhost:8080/",
          "height": 424
        },
        "id": "lIUrufyW7mHs",
        "outputId": "ed572ded-db5c-4952-e4a8-cc76659f833d"
      },
      "outputs": [
        {
          "output_type": "execute_result",
          "data": {
            "text/plain": [
              "                                                    Text Sentiment\n",
              "0      dfizzy ever read uh got one question would eve...   Neutral\n",
              "1             bother celebs eh cause almost like talking  Negative\n",
              "2      piyaaa hi im hyper im bored im online im going...  Negative\n",
              "3            best part notting hill daft prick haha love   Neutral\n",
              "4                                watching destrey videos   Neutral\n",
              "...                                                  ...       ...\n",
              "23629             want garden sitting inside sunny sucks  Negative\n",
              "23630              happy mothers day im spend day family  Positive\n",
              "23631  moms season 3 weeds got burnt family friends m...  Negative\n",
              "23632                                       wan na happy  Positive\n",
              "23633                                 would great thanks  Positive\n",
              "\n",
              "[23634 rows x 2 columns]"
            ],
            "text/html": [
              "\n",
              "  <div id=\"df-55f72114-5d95-4c1e-abbb-86574ef8e27e\" class=\"colab-df-container\">\n",
              "    <div>\n",
              "<style scoped>\n",
              "    .dataframe tbody tr th:only-of-type {\n",
              "        vertical-align: middle;\n",
              "    }\n",
              "\n",
              "    .dataframe tbody tr th {\n",
              "        vertical-align: top;\n",
              "    }\n",
              "\n",
              "    .dataframe thead th {\n",
              "        text-align: right;\n",
              "    }\n",
              "</style>\n",
              "<table border=\"1\" class=\"dataframe\">\n",
              "  <thead>\n",
              "    <tr style=\"text-align: right;\">\n",
              "      <th></th>\n",
              "      <th>Text</th>\n",
              "      <th>Sentiment</th>\n",
              "    </tr>\n",
              "  </thead>\n",
              "  <tbody>\n",
              "    <tr>\n",
              "      <th>0</th>\n",
              "      <td>dfizzy ever read uh got one question would eve...</td>\n",
              "      <td>Neutral</td>\n",
              "    </tr>\n",
              "    <tr>\n",
              "      <th>1</th>\n",
              "      <td>bother celebs eh cause almost like talking</td>\n",
              "      <td>Negative</td>\n",
              "    </tr>\n",
              "    <tr>\n",
              "      <th>2</th>\n",
              "      <td>piyaaa hi im hyper im bored im online im going...</td>\n",
              "      <td>Negative</td>\n",
              "    </tr>\n",
              "    <tr>\n",
              "      <th>3</th>\n",
              "      <td>best part notting hill daft prick haha love</td>\n",
              "      <td>Neutral</td>\n",
              "    </tr>\n",
              "    <tr>\n",
              "      <th>4</th>\n",
              "      <td>watching destrey videos</td>\n",
              "      <td>Neutral</td>\n",
              "    </tr>\n",
              "    <tr>\n",
              "      <th>...</th>\n",
              "      <td>...</td>\n",
              "      <td>...</td>\n",
              "    </tr>\n",
              "    <tr>\n",
              "      <th>23629</th>\n",
              "      <td>want garden sitting inside sunny sucks</td>\n",
              "      <td>Negative</td>\n",
              "    </tr>\n",
              "    <tr>\n",
              "      <th>23630</th>\n",
              "      <td>happy mothers day im spend day family</td>\n",
              "      <td>Positive</td>\n",
              "    </tr>\n",
              "    <tr>\n",
              "      <th>23631</th>\n",
              "      <td>moms season 3 weeds got burnt family friends m...</td>\n",
              "      <td>Negative</td>\n",
              "    </tr>\n",
              "    <tr>\n",
              "      <th>23632</th>\n",
              "      <td>wan na happy</td>\n",
              "      <td>Positive</td>\n",
              "    </tr>\n",
              "    <tr>\n",
              "      <th>23633</th>\n",
              "      <td>would great thanks</td>\n",
              "      <td>Positive</td>\n",
              "    </tr>\n",
              "  </tbody>\n",
              "</table>\n",
              "<p>23634 rows × 2 columns</p>\n",
              "</div>\n",
              "    <div class=\"colab-df-buttons\">\n",
              "\n",
              "  <div class=\"colab-df-container\">\n",
              "    <button class=\"colab-df-convert\" onclick=\"convertToInteractive('df-55f72114-5d95-4c1e-abbb-86574ef8e27e')\"\n",
              "            title=\"Convert this dataframe to an interactive table.\"\n",
              "            style=\"display:none;\">\n",
              "\n",
              "  <svg xmlns=\"http://www.w3.org/2000/svg\" height=\"24px\" viewBox=\"0 -960 960 960\">\n",
              "    <path d=\"M120-120v-720h720v720H120Zm60-500h600v-160H180v160Zm220 220h160v-160H400v160Zm0 220h160v-160H400v160ZM180-400h160v-160H180v160Zm440 0h160v-160H620v160ZM180-180h160v-160H180v160Zm440 0h160v-160H620v160Z\"/>\n",
              "  </svg>\n",
              "    </button>\n",
              "\n",
              "  <style>\n",
              "    .colab-df-container {\n",
              "      display:flex;\n",
              "      gap: 12px;\n",
              "    }\n",
              "\n",
              "    .colab-df-convert {\n",
              "      background-color: #E8F0FE;\n",
              "      border: none;\n",
              "      border-radius: 50%;\n",
              "      cursor: pointer;\n",
              "      display: none;\n",
              "      fill: #1967D2;\n",
              "      height: 32px;\n",
              "      padding: 0 0 0 0;\n",
              "      width: 32px;\n",
              "    }\n",
              "\n",
              "    .colab-df-convert:hover {\n",
              "      background-color: #E2EBFA;\n",
              "      box-shadow: 0px 1px 2px rgba(60, 64, 67, 0.3), 0px 1px 3px 1px rgba(60, 64, 67, 0.15);\n",
              "      fill: #174EA6;\n",
              "    }\n",
              "\n",
              "    .colab-df-buttons div {\n",
              "      margin-bottom: 4px;\n",
              "    }\n",
              "\n",
              "    [theme=dark] .colab-df-convert {\n",
              "      background-color: #3B4455;\n",
              "      fill: #D2E3FC;\n",
              "    }\n",
              "\n",
              "    [theme=dark] .colab-df-convert:hover {\n",
              "      background-color: #434B5C;\n",
              "      box-shadow: 0px 1px 3px 1px rgba(0, 0, 0, 0.15);\n",
              "      filter: drop-shadow(0px 1px 2px rgba(0, 0, 0, 0.3));\n",
              "      fill: #FFFFFF;\n",
              "    }\n",
              "  </style>\n",
              "\n",
              "    <script>\n",
              "      const buttonEl =\n",
              "        document.querySelector('#df-55f72114-5d95-4c1e-abbb-86574ef8e27e button.colab-df-convert');\n",
              "      buttonEl.style.display =\n",
              "        google.colab.kernel.accessAllowed ? 'block' : 'none';\n",
              "\n",
              "      async function convertToInteractive(key) {\n",
              "        const element = document.querySelector('#df-55f72114-5d95-4c1e-abbb-86574ef8e27e');\n",
              "        const dataTable =\n",
              "          await google.colab.kernel.invokeFunction('convertToInteractive',\n",
              "                                                    [key], {});\n",
              "        if (!dataTable) return;\n",
              "\n",
              "        const docLinkHtml = 'Like what you see? Visit the ' +\n",
              "          '<a target=\"_blank\" href=https://colab.research.google.com/notebooks/data_table.ipynb>data table notebook</a>'\n",
              "          + ' to learn more about interactive tables.';\n",
              "        element.innerHTML = '';\n",
              "        dataTable['output_type'] = 'display_data';\n",
              "        await google.colab.output.renderOutput(dataTable, element);\n",
              "        const docLink = document.createElement('div');\n",
              "        docLink.innerHTML = docLinkHtml;\n",
              "        element.appendChild(docLink);\n",
              "      }\n",
              "    </script>\n",
              "  </div>\n",
              "\n",
              "\n",
              "    <div id=\"df-b6fec143-3149-44d5-a9fb-6c7e0a349e97\">\n",
              "      <button class=\"colab-df-quickchart\" onclick=\"quickchart('df-b6fec143-3149-44d5-a9fb-6c7e0a349e97')\"\n",
              "                title=\"Suggest charts\"\n",
              "                style=\"display:none;\">\n",
              "\n",
              "<svg xmlns=\"http://www.w3.org/2000/svg\" height=\"24px\"viewBox=\"0 0 24 24\"\n",
              "     width=\"24px\">\n",
              "    <g>\n",
              "        <path d=\"M19 3H5c-1.1 0-2 .9-2 2v14c0 1.1.9 2 2 2h14c1.1 0 2-.9 2-2V5c0-1.1-.9-2-2-2zM9 17H7v-7h2v7zm4 0h-2V7h2v10zm4 0h-2v-4h2v4z\"/>\n",
              "    </g>\n",
              "</svg>\n",
              "      </button>\n",
              "\n",
              "<style>\n",
              "  .colab-df-quickchart {\n",
              "      --bg-color: #E8F0FE;\n",
              "      --fill-color: #1967D2;\n",
              "      --hover-bg-color: #E2EBFA;\n",
              "      --hover-fill-color: #174EA6;\n",
              "      --disabled-fill-color: #AAA;\n",
              "      --disabled-bg-color: #DDD;\n",
              "  }\n",
              "\n",
              "  [theme=dark] .colab-df-quickchart {\n",
              "      --bg-color: #3B4455;\n",
              "      --fill-color: #D2E3FC;\n",
              "      --hover-bg-color: #434B5C;\n",
              "      --hover-fill-color: #FFFFFF;\n",
              "      --disabled-bg-color: #3B4455;\n",
              "      --disabled-fill-color: #666;\n",
              "  }\n",
              "\n",
              "  .colab-df-quickchart {\n",
              "    background-color: var(--bg-color);\n",
              "    border: none;\n",
              "    border-radius: 50%;\n",
              "    cursor: pointer;\n",
              "    display: none;\n",
              "    fill: var(--fill-color);\n",
              "    height: 32px;\n",
              "    padding: 0;\n",
              "    width: 32px;\n",
              "  }\n",
              "\n",
              "  .colab-df-quickchart:hover {\n",
              "    background-color: var(--hover-bg-color);\n",
              "    box-shadow: 0 1px 2px rgba(60, 64, 67, 0.3), 0 1px 3px 1px rgba(60, 64, 67, 0.15);\n",
              "    fill: var(--button-hover-fill-color);\n",
              "  }\n",
              "\n",
              "  .colab-df-quickchart-complete:disabled,\n",
              "  .colab-df-quickchart-complete:disabled:hover {\n",
              "    background-color: var(--disabled-bg-color);\n",
              "    fill: var(--disabled-fill-color);\n",
              "    box-shadow: none;\n",
              "  }\n",
              "\n",
              "  .colab-df-spinner {\n",
              "    border: 2px solid var(--fill-color);\n",
              "    border-color: transparent;\n",
              "    border-bottom-color: var(--fill-color);\n",
              "    animation:\n",
              "      spin 1s steps(1) infinite;\n",
              "  }\n",
              "\n",
              "  @keyframes spin {\n",
              "    0% {\n",
              "      border-color: transparent;\n",
              "      border-bottom-color: var(--fill-color);\n",
              "      border-left-color: var(--fill-color);\n",
              "    }\n",
              "    20% {\n",
              "      border-color: transparent;\n",
              "      border-left-color: var(--fill-color);\n",
              "      border-top-color: var(--fill-color);\n",
              "    }\n",
              "    30% {\n",
              "      border-color: transparent;\n",
              "      border-left-color: var(--fill-color);\n",
              "      border-top-color: var(--fill-color);\n",
              "      border-right-color: var(--fill-color);\n",
              "    }\n",
              "    40% {\n",
              "      border-color: transparent;\n",
              "      border-right-color: var(--fill-color);\n",
              "      border-top-color: var(--fill-color);\n",
              "    }\n",
              "    60% {\n",
              "      border-color: transparent;\n",
              "      border-right-color: var(--fill-color);\n",
              "    }\n",
              "    80% {\n",
              "      border-color: transparent;\n",
              "      border-right-color: var(--fill-color);\n",
              "      border-bottom-color: var(--fill-color);\n",
              "    }\n",
              "    90% {\n",
              "      border-color: transparent;\n",
              "      border-bottom-color: var(--fill-color);\n",
              "    }\n",
              "  }\n",
              "</style>\n",
              "\n",
              "      <script>\n",
              "        async function quickchart(key) {\n",
              "          const quickchartButtonEl =\n",
              "            document.querySelector('#' + key + ' button');\n",
              "          quickchartButtonEl.disabled = true;  // To prevent multiple clicks.\n",
              "          quickchartButtonEl.classList.add('colab-df-spinner');\n",
              "          try {\n",
              "            const charts = await google.colab.kernel.invokeFunction(\n",
              "                'suggestCharts', [key], {});\n",
              "          } catch (error) {\n",
              "            console.error('Error during call to suggestCharts:', error);\n",
              "          }\n",
              "          quickchartButtonEl.classList.remove('colab-df-spinner');\n",
              "          quickchartButtonEl.classList.add('colab-df-quickchart-complete');\n",
              "        }\n",
              "        (() => {\n",
              "          let quickchartButtonEl =\n",
              "            document.querySelector('#df-b6fec143-3149-44d5-a9fb-6c7e0a349e97 button');\n",
              "          quickchartButtonEl.style.display =\n",
              "            google.colab.kernel.accessAllowed ? 'block' : 'none';\n",
              "        })();\n",
              "      </script>\n",
              "    </div>\n",
              "\n",
              "    </div>\n",
              "  </div>\n"
            ],
            "application/vnd.google.colaboratory.intrinsic+json": {
              "type": "dataframe",
              "summary": "{\n  \"name\": \"data\",\n  \"rows\": 23634,\n  \"fields\": [\n    {\n      \"column\": \"Text\",\n      \"properties\": {\n        \"dtype\": \"string\",\n        \"num_unique_values\": 23210,\n        \"samples\": [\n          \"bud light massachusetts boston lager guess wont catch next flight njoy\",\n          \"watched marley cute movie going watch twilight soon love\",\n          \"patio weather kirkland also launchyerboat weather except im missing boat part\"\n        ],\n        \"semantic_type\": \"\",\n        \"description\": \"\"\n      }\n    },\n    {\n      \"column\": \"Sentiment\",\n      \"properties\": {\n        \"dtype\": \"category\",\n        \"num_unique_values\": 3,\n        \"samples\": [\n          \"Neutral\",\n          \"Negative\",\n          \"Positive\"\n        ],\n        \"semantic_type\": \"\",\n        \"description\": \"\"\n      }\n    }\n  ]\n}"
            }
          },
          "metadata": {},
          "execution_count": 9
        }
      ],
      "source": [
        "# Just in case, we shuffle the dataset\n",
        "data.sample(frac=1, random_state=42).reset_index(drop=True)"
      ]
    },
    {
      "cell_type": "code",
      "execution_count": 10,
      "metadata": {
        "colab": {
          "base_uri": "https://localhost:8080/",
          "height": 472
        },
        "id": "D_xk91mPYgfL",
        "outputId": "16eee208-4536-4493-ce65-e70b5de7744f"
      },
      "outputs": [
        {
          "output_type": "display_data",
          "data": {
            "text/plain": [
              "<Figure size 640x480 with 1 Axes>"
            ],
            "image/png": "[encoded data removed]"
          },
          "metadata": {}
        }
      ],
      "source": [
        "# Making sure that the dataset is balanced\n",
        "import seaborn as sns\n",
        "import matplotlib.pyplot as plt\n",
        "\n",
        "sns.countplot(data=data, x='Sentiment', order=data['Sentiment'].value_counts().index)\n",
        "plt.title('Sentiment Distribution')\n",
        "plt.xlabel('Sentiment')\n",
        "plt.ylabel('Count')\n",
        "plt.show()"
      ]
    },
    {
      "cell_type": "code",
      "execution_count": 11,
      "metadata": {
        "id": "nnebeO6FoqvS"
      },
      "outputs": [],
      "source": [
        "from sklearn.model_selection import train_test_split\n",
        "from sklearn.feature_extraction.text import TfidfVectorizer\n",
        "from sklearn.linear_model import LogisticRegression\n",
        "from sklearn.metrics import accuracy_score\n",
        "from itertools import product\n",
        "\n",
        "# Splitting dataset into train, validation and test set.\n",
        "X_train_val, X_test, y_train_val, y_test = train_test_split(data['Text'], data['Sentiment'], test_size=0.2, random_state=42)\n",
        "X_train, X_val, y_train, y_val = train_test_split(X_train_val, y_train_val, test_size=0.2, random_state=42)\n",
        "\n",
        "vectorizer = TfidfVectorizer()\n",
        "X_train_vec = vectorizer.fit_transform(X_train)\n",
        "X_val_vec = vectorizer.transform(X_val)\n",
        "X_test_vec = vectorizer.transform(X_test)"
      ]
    },
    {
      "cell_type": "markdown",
      "metadata": {
        "id": "RfwjKLCEShWl"
      },
      "source": [
        "### Logistic Regression"
      ]
    },
    {
      "cell_type": "code",
      "execution_count": 12,
      "metadata": {
        "id": "JybKxynW8yFA"
      },
      "outputs": [],
      "source": [
        "def tune_logistic_regression(X_train, y_train, X_val, y_val, param_grid):\n",
        "\n",
        "    best_model = None\n",
        "    best_params = None\n",
        "    best_score = 0\n",
        "\n",
        "    param_combinations = product(*param_grid.values())\n",
        "\n",
        "    for params in param_combinations:\n",
        "\n",
        "        current_params = dict(zip(param_grid.keys(), params))\n",
        "        print(current_params)\n",
        "        model = LogisticRegression(**current_params)\n",
        "        model.fit(X_train,y_train)\n",
        "        val_predictions = model.predict(X_val)\n",
        "        val_score = accuracy_score(y_val, val_predictions)\n",
        "        print(f\"Validation accuracy: {val_score:.4f}\\n\")\n",
        "\n",
        "        if val_score > best_score:\n",
        "          best_score = val_score\n",
        "          best_model = model\n",
        "          best_params = current_params\n",
        "\n",
        "    print(\"Best Parameters:\", best_params)\n",
        "    print(\"Best Validation Accuracy:\", best_score)\n",
        "\n",
        "    return best_model, best_params, best_score"
      ]
    },
    {
      "cell_type": "code",
      "execution_count": 13,
      "metadata": {
        "colab": {
          "base_uri": "https://localhost:8080/"
        },
        "id": "h3RBU4318_lO",
        "outputId": "db43acab-b0c7-4e1a-d992-9df63c8b1768"
      },
      "outputs": [
        {
          "output_type": "stream",
          "name": "stdout",
          "text": [
            "{'C': 0.06, 'solver': 'lbfgs', 'max_iter': 1000}\n",
            "Validation accuracy: 0.6454\n",
            "\n",
            "{'C': 0.06, 'solver': 'sag', 'max_iter': 1000}\n",
            "Validation accuracy: 0.6446\n",
            "\n",
            "{'C': 0.06, 'solver': 'saga', 'max_iter': 1000}\n",
            "Validation accuracy: 0.6446\n",
            "\n",
            "{'C': 0.06, 'solver': 'newton-cg', 'max_iter': 1000}\n",
            "Validation accuracy: 0.6446\n",
            "\n",
            "{'C': 0.06, 'solver': 'liblinear', 'max_iter': 1000}\n",
            "Validation accuracy: 0.6383\n",
            "\n",
            "{'C': 0.1, 'solver': 'lbfgs', 'max_iter': 1000}\n",
            "Validation accuracy: 0.6507\n",
            "\n",
            "{'C': 0.1, 'solver': 'sag', 'max_iter': 1000}\n",
            "Validation accuracy: 0.6502\n",
            "\n",
            "{'C': 0.1, 'solver': 'saga', 'max_iter': 1000}\n",
            "Validation accuracy: 0.6502\n",
            "\n",
            "{'C': 0.1, 'solver': 'newton-cg', 'max_iter': 1000}\n",
            "Validation accuracy: 0.6502\n",
            "\n",
            "{'C': 0.1, 'solver': 'liblinear', 'max_iter': 1000}\n",
            "Validation accuracy: 0.6473\n",
            "\n",
            "{'C': 0.3, 'solver': 'lbfgs', 'max_iter': 1000}\n",
            "Validation accuracy: 0.6740\n",
            "\n",
            "{'C': 0.3, 'solver': 'sag', 'max_iter': 1000}\n",
            "Validation accuracy: 0.6724\n",
            "\n",
            "{'C': 0.3, 'solver': 'saga', 'max_iter': 1000}\n",
            "Validation accuracy: 0.6724\n",
            "\n",
            "{'C': 0.3, 'solver': 'newton-cg', 'max_iter': 1000}\n",
            "Validation accuracy: 0.6724\n",
            "\n",
            "{'C': 0.3, 'solver': 'liblinear', 'max_iter': 1000}\n",
            "Validation accuracy: 0.6711\n",
            "\n",
            "{'C': 0.6, 'solver': 'lbfgs', 'max_iter': 1000}\n",
            "Validation accuracy: 0.6764\n",
            "\n",
            "{'C': 0.6, 'solver': 'sag', 'max_iter': 1000}\n",
            "Validation accuracy: 0.6753\n",
            "\n",
            "{'C': 0.6, 'solver': 'saga', 'max_iter': 1000}\n",
            "Validation accuracy: 0.6753\n",
            "\n",
            "{'C': 0.6, 'solver': 'newton-cg', 'max_iter': 1000}\n",
            "Validation accuracy: 0.6758\n",
            "\n",
            "{'C': 0.6, 'solver': 'liblinear', 'max_iter': 1000}\n",
            "Validation accuracy: 0.6742\n",
            "\n",
            "{'C': 1, 'solver': 'lbfgs', 'max_iter': 1000}\n",
            "Validation accuracy: 0.6785\n",
            "\n",
            "{'C': 1, 'solver': 'sag', 'max_iter': 1000}\n",
            "Validation accuracy: 0.6785\n",
            "\n",
            "{'C': 1, 'solver': 'saga', 'max_iter': 1000}\n",
            "Validation accuracy: 0.6787\n",
            "\n",
            "{'C': 1, 'solver': 'newton-cg', 'max_iter': 1000}\n",
            "Validation accuracy: 0.6787\n",
            "\n",
            "{'C': 1, 'solver': 'liblinear', 'max_iter': 1000}\n",
            "Validation accuracy: 0.6758\n",
            "\n",
            "{'C': 3, 'solver': 'lbfgs', 'max_iter': 1000}\n",
            "Validation accuracy: 0.6756\n",
            "\n",
            "{'C': 3, 'solver': 'sag', 'max_iter': 1000}\n",
            "Validation accuracy: 0.6745\n",
            "\n",
            "{'C': 3, 'solver': 'saga', 'max_iter': 1000}\n",
            "Validation accuracy: 0.6745\n",
            "\n",
            "{'C': 3, 'solver': 'newton-cg', 'max_iter': 1000}\n",
            "Validation accuracy: 0.6748\n",
            "\n",
            "{'C': 3, 'solver': 'liblinear', 'max_iter': 1000}\n",
            "Validation accuracy: 0.6811\n",
            "\n",
            "{'C': 6, 'solver': 'lbfgs', 'max_iter': 1000}\n",
            "Validation accuracy: 0.6663\n",
            "\n",
            "{'C': 6, 'solver': 'sag', 'max_iter': 1000}\n",
            "Validation accuracy: 0.6674\n",
            "\n",
            "{'C': 6, 'solver': 'saga', 'max_iter': 1000}\n",
            "Validation accuracy: 0.6671\n",
            "\n",
            "{'C': 6, 'solver': 'newton-cg', 'max_iter': 1000}\n",
            "Validation accuracy: 0.6682\n",
            "\n",
            "{'C': 6, 'solver': 'liblinear', 'max_iter': 1000}\n",
            "Validation accuracy: 0.6713\n",
            "\n",
            "{'C': 7, 'solver': 'lbfgs', 'max_iter': 1000}\n",
            "Validation accuracy: 0.6671\n",
            "\n",
            "{'C': 7, 'solver': 'sag', 'max_iter': 1000}\n",
            "Validation accuracy: 0.6674\n",
            "\n",
            "{'C': 7, 'solver': 'saga', 'max_iter': 1000}\n",
            "Validation accuracy: 0.6676\n",
            "\n",
            "{'C': 7, 'solver': 'newton-cg', 'max_iter': 1000}\n",
            "Validation accuracy: 0.6674\n",
            "\n",
            "{'C': 7, 'solver': 'liblinear', 'max_iter': 1000}\n",
            "Validation accuracy: 0.6708\n",
            "\n",
            "Best Parameters: {'C': 3, 'solver': 'liblinear', 'max_iter': 1000}\n",
            "Best Validation Accuracy: 0.6811210999471179\n"
          ]
        }
      ],
      "source": [
        "param_grid = {\n",
        "    'C': [0.06, 0.1, 0.3, 0.6, 1, 3, 6, 7],\n",
        "    'solver': ['lbfgs','sag','saga','newton-cg','liblinear'],\n",
        "    'max_iter': [1000]\n",
        "}\n",
        "\n",
        "best_model_lgr, best_params_lgr, best_score_lgr = tune_logistic_regression(X_train_vec, y_train, X_val_vec, y_val, param_grid)"
      ]
    },
    {
      "cell_type": "code",
      "execution_count": 14,
      "metadata": {
        "colab": {
          "base_uri": "https://localhost:8080/"
        },
        "id": "LVI3Gxpd9Hkk",
        "outputId": "79cb09f2-6834-456e-b3d6-5c90443facb8"
      },
      "outputs": [
        {
          "output_type": "stream",
          "name": "stdout",
          "text": [
            "              precision    recall  f1-score   support\n",
            "\n",
            "    Negative       0.69      0.71      0.70      1561\n",
            "     Neutral       0.58      0.59      0.59      1610\n",
            "    Positive       0.74      0.72      0.73      1556\n",
            "\n",
            "    accuracy                           0.67      4727\n",
            "   macro avg       0.67      0.67      0.67      4727\n",
            "weighted avg       0.67      0.67      0.67      4727\n",
            "\n"
          ]
        }
      ],
      "source": [
        "from sklearn.metrics import classification_report\n",
        "\n",
        "# Predicts and evaluates the best model on the test set\n",
        "pred_lgr = best_model_lgr.predict(X_test_vec)\n",
        "print(classification_report(y_test, pred_lgr))"
      ]
    },
    {
      "cell_type": "code",
      "execution_count": 15,
      "metadata": {
        "colab": {
          "base_uri": "https://localhost:8080/"
        },
        "id": "yeDa7rRngeWJ",
        "outputId": "40c73658-c6cb-4f10-958d-abb92f6331b1"
      },
      "outputs": [
        {
          "output_type": "stream",
          "name": "stdout",
          "text": [
            "Logistic regression - macro F1 score: 0.6729\n"
          ]
        }
      ],
      "source": [
        "macro_f1_lgr = f1_score(y_test, pred_lgr, average='macro')\n",
        "print(f\"Logistic regression - macro F1 score: {macro_f1_lgr:.4f}\")"
      ]
    },
    {
      "cell_type": "code",
      "execution_count": 30,
      "metadata": {
        "colab": {
          "base_uri": "https://localhost:8080/",
          "height": 472
        },
        "id": "kNMetvoxfvKV",
        "outputId": "c5376107-b537-449e-9533-a3ae207dca98"
      },
      "outputs": [
        {
          "output_type": "display_data",
          "data": {
            "text/plain": [
              "<Figure size 640x480 with 2 Axes>"
            ],
            "image/png": "[encoded data removed]"
          },
          "metadata": {}
        }
      ],
      "source": [
        "cm_lgr = confusion_matrix(y_test, pred_lgr)\n",
        "\n",
        "labels = ['Negative', 'Neutral', 'Positive']\n",
        "\n",
        "disp = ConfusionMatrixDisplay(confusion_matrix=cm_lgr, display_labels=labels)\n",
        "disp.plot(cmap=plt.cm.Greens)\n",
        "plt.title(\"Confusion Matrix - Logistic Regression\")\n",
        "plt.show()"
      ]
    },
    {
      "cell_type": "markdown",
      "metadata": {
        "id": "fgRBRS4lSEim"
      },
      "source": [
        "### Random Forest classifier"
      ]
    },
    {
      "cell_type": "code",
      "execution_count": 17,
      "metadata": {
        "id": "DGk54zdOB0w4"
      },
      "outputs": [],
      "source": [
        "from sklearn.ensemble import RandomForestClassifier\n",
        "\n",
        "def tune_random_forest(X_train_vec, y_train, X_val_vec, y_val, param_grid):\n",
        "    best_model = None\n",
        "    best_params = None\n",
        "    best_score = 0\n",
        "\n",
        "    param_combinations = product(*param_grid.values())\n",
        "\n",
        "    for params in param_combinations:\n",
        "        current_params = dict(zip(param_grid.keys(), params))\n",
        "        print(current_params)\n",
        "        model = RandomForestClassifier(**current_params, random_state=42)\n",
        "        model.fit(X_train_vec, y_train)\n",
        "        val_predictions = model.predict(X_val_vec)\n",
        "        val_score = accuracy_score(y_val, val_predictions)\n",
        "        print(f\"Validation accuracy: {val_score:.4f}\\n\")\n",
        "\n",
        "        if val_score > best_score:\n",
        "            best_score = val_score\n",
        "            best_model = model\n",
        "            best_params = current_params\n",
        "\n",
        "    print(\"Best Parameters:\", best_params)\n",
        "    print(\"Best Validation Accuracy:\", best_score)\n",
        "\n",
        "    return best_model, best_params, best_score"
      ]
    },
    {
      "cell_type": "code",
      "execution_count": 18,
      "metadata": {
        "id": "6WtF33keCYMa"
      },
      "outputs": [],
      "source": [
        "param_grid = {\n",
        "    'n_estimators': [50, 100, 200],\n",
        "    'max_depth': [None, 10, 20, 50],\n",
        "    'min_samples_split': [2, 3, 4, 5]\n",
        "}"
      ]
    },
    {
      "cell_type": "code",
      "execution_count": 19,
      "metadata": {
        "colab": {
          "base_uri": "https://localhost:8080/"
        },
        "id": "7z8iJCABwAfm",
        "outputId": "e9a3e274-b574-4405-c307-ac702d9fe3f4"
      },
      "outputs": [
        {
          "output_type": "stream",
          "name": "stdout",
          "text": [
            "{'n_estimators': 50, 'max_depth': None, 'min_samples_split': 2}\n",
            "Validation accuracy: 0.6719\n",
            "\n",
            "{'n_estimators': 50, 'max_depth': None, 'min_samples_split': 3}\n",
            "Validation accuracy: 0.6785\n",
            "\n",
            "{'n_estimators': 50, 'max_depth': None, 'min_samples_split': 4}\n",
            "Validation accuracy: 0.6745\n",
            "\n",
            "{'n_estimators': 50, 'max_depth': None, 'min_samples_split': 5}\n",
            "Validation accuracy: 0.6798\n",
            "\n",
            "{'n_estimators': 50, 'max_depth': 10, 'min_samples_split': 2}\n",
            "Validation accuracy: 0.6192\n",
            "\n",
            "{'n_estimators': 50, 'max_depth': 10, 'min_samples_split': 3}\n",
            "Validation accuracy: 0.6208\n",
            "\n",
            "{'n_estimators': 50, 'max_depth': 10, 'min_samples_split': 4}\n",
            "Validation accuracy: 0.6185\n",
            "\n",
            "{'n_estimators': 50, 'max_depth': 10, 'min_samples_split': 5}\n",
            "Validation accuracy: 0.6195\n",
            "\n",
            "{'n_estimators': 50, 'max_depth': 20, 'min_samples_split': 2}\n",
            "Validation accuracy: 0.6423\n",
            "\n",
            "{'n_estimators': 50, 'max_depth': 20, 'min_samples_split': 3}\n",
            "Validation accuracy: 0.6404\n",
            "\n",
            "{'n_estimators': 50, 'max_depth': 20, 'min_samples_split': 4}\n",
            "Validation accuracy: 0.6430\n",
            "\n",
            "{'n_estimators': 50, 'max_depth': 20, 'min_samples_split': 5}\n",
            "Validation accuracy: 0.6423\n",
            "\n",
            "{'n_estimators': 50, 'max_depth': 50, 'min_samples_split': 2}\n",
            "Validation accuracy: 0.6504\n",
            "\n",
            "{'n_estimators': 50, 'max_depth': 50, 'min_samples_split': 3}\n",
            "Validation accuracy: 0.6510\n",
            "\n",
            "{'n_estimators': 50, 'max_depth': 50, 'min_samples_split': 4}\n",
            "Validation accuracy: 0.6504\n",
            "\n",
            "{'n_estimators': 50, 'max_depth': 50, 'min_samples_split': 5}\n",
            "Validation accuracy: 0.6557\n",
            "\n",
            "{'n_estimators': 100, 'max_depth': None, 'min_samples_split': 2}\n",
            "Validation accuracy: 0.6772\n",
            "\n",
            "{'n_estimators': 100, 'max_depth': None, 'min_samples_split': 3}\n",
            "Validation accuracy: 0.6787\n",
            "\n",
            "{'n_estimators': 100, 'max_depth': None, 'min_samples_split': 4}\n",
            "Validation accuracy: 0.6785\n",
            "\n",
            "{'n_estimators': 100, 'max_depth': None, 'min_samples_split': 5}\n",
            "Validation accuracy: 0.6779\n",
            "\n",
            "{'n_estimators': 100, 'max_depth': 10, 'min_samples_split': 2}\n",
            "Validation accuracy: 0.6362\n",
            "\n",
            "{'n_estimators': 100, 'max_depth': 10, 'min_samples_split': 3}\n",
            "Validation accuracy: 0.6396\n",
            "\n",
            "{'n_estimators': 100, 'max_depth': 10, 'min_samples_split': 4}\n",
            "Validation accuracy: 0.6380\n",
            "\n",
            "{'n_estimators': 100, 'max_depth': 10, 'min_samples_split': 5}\n",
            "Validation accuracy: 0.6399\n",
            "\n",
            "{'n_estimators': 100, 'max_depth': 20, 'min_samples_split': 2}\n",
            "Validation accuracy: 0.6504\n",
            "\n",
            "{'n_estimators': 100, 'max_depth': 20, 'min_samples_split': 3}\n",
            "Validation accuracy: 0.6549\n",
            "\n",
            "{'n_estimators': 100, 'max_depth': 20, 'min_samples_split': 4}\n",
            "Validation accuracy: 0.6523\n",
            "\n",
            "{'n_estimators': 100, 'max_depth': 20, 'min_samples_split': 5}\n",
            "Validation accuracy: 0.6512\n",
            "\n",
            "{'n_estimators': 100, 'max_depth': 50, 'min_samples_split': 2}\n",
            "Validation accuracy: 0.6568\n",
            "\n",
            "{'n_estimators': 100, 'max_depth': 50, 'min_samples_split': 3}\n",
            "Validation accuracy: 0.6549\n",
            "\n",
            "{'n_estimators': 100, 'max_depth': 50, 'min_samples_split': 4}\n",
            "Validation accuracy: 0.6518\n",
            "\n",
            "{'n_estimators': 100, 'max_depth': 50, 'min_samples_split': 5}\n",
            "Validation accuracy: 0.6557\n",
            "\n",
            "{'n_estimators': 200, 'max_depth': None, 'min_samples_split': 2}\n",
            "Validation accuracy: 0.6787\n",
            "\n",
            "{'n_estimators': 200, 'max_depth': None, 'min_samples_split': 3}\n",
            "Validation accuracy: 0.6803\n",
            "\n",
            "{'n_estimators': 200, 'max_depth': None, 'min_samples_split': 4}\n",
            "Validation accuracy: 0.6809\n",
            "\n",
            "{'n_estimators': 200, 'max_depth': None, 'min_samples_split': 5}\n",
            "Validation accuracy: 0.6824\n",
            "\n",
            "{'n_estimators': 200, 'max_depth': 10, 'min_samples_split': 2}\n",
            "Validation accuracy: 0.6491\n",
            "\n",
            "{'n_estimators': 200, 'max_depth': 10, 'min_samples_split': 3}\n",
            "Validation accuracy: 0.6504\n",
            "\n",
            "{'n_estimators': 200, 'max_depth': 10, 'min_samples_split': 4}\n",
            "Validation accuracy: 0.6491\n",
            "\n",
            "{'n_estimators': 200, 'max_depth': 10, 'min_samples_split': 5}\n",
            "Validation accuracy: 0.6491\n",
            "\n",
            "{'n_estimators': 200, 'max_depth': 20, 'min_samples_split': 2}\n",
            "Validation accuracy: 0.6512\n",
            "\n",
            "{'n_estimators': 200, 'max_depth': 20, 'min_samples_split': 3}\n",
            "Validation accuracy: 0.6507\n",
            "\n",
            "{'n_estimators': 200, 'max_depth': 20, 'min_samples_split': 4}\n",
            "Validation accuracy: 0.6520\n",
            "\n",
            "{'n_estimators': 200, 'max_depth': 20, 'min_samples_split': 5}\n",
            "Validation accuracy: 0.6515\n",
            "\n",
            "{'n_estimators': 200, 'max_depth': 50, 'min_samples_split': 2}\n",
            "Validation accuracy: 0.6576\n",
            "\n",
            "{'n_estimators': 200, 'max_depth': 50, 'min_samples_split': 3}\n",
            "Validation accuracy: 0.6568\n",
            "\n",
            "{'n_estimators': 200, 'max_depth': 50, 'min_samples_split': 4}\n",
            "Validation accuracy: 0.6555\n",
            "\n",
            "{'n_estimators': 200, 'max_depth': 50, 'min_samples_split': 5}\n",
            "Validation accuracy: 0.6555\n",
            "\n",
            "Best Parameters: {'n_estimators': 200, 'max_depth': None, 'min_samples_split': 5}\n",
            "Best Validation Accuracy: 0.6824431517715495\n"
          ]
        }
      ],
      "source": [
        "best_model_rf, best_param_rf, best_score_rf = tune_random_forest(X_train_vec, y_train, X_val_vec, y_val, param_grid)"
      ]
    },
    {
      "cell_type": "code",
      "execution_count": 20,
      "metadata": {
        "colab": {
          "base_uri": "https://localhost:8080/"
        },
        "id": "OsbMW2rX42fd",
        "outputId": "eb72e042-d64e-4967-ab9a-194af96ab13f"
      },
      "outputs": [
        {
          "output_type": "stream",
          "name": "stdout",
          "text": [
            "              precision    recall  f1-score   support\n",
            "\n",
            "    Negative       0.72      0.68      0.70      1561\n",
            "     Neutral       0.60      0.64      0.62      1610\n",
            "    Positive       0.76      0.75      0.75      1556\n",
            "\n",
            "    accuracy                           0.69      4727\n",
            "   macro avg       0.69      0.69      0.69      4727\n",
            "weighted avg       0.69      0.69      0.69      4727\n",
            "\n"
          ]
        }
      ],
      "source": [
        "pred_rf = best_model_rf.predict(X_test_vec)\n",
        "print(classification_report(y_test, pred_rf))"
      ]
    },
    {
      "cell_type": "code",
      "execution_count": 21,
      "metadata": {
        "colab": {
          "base_uri": "https://localhost:8080/"
        },
        "id": "NZbBAu7-hFlB",
        "outputId": "7f8419fd-6144-47a8-a21c-49926aa8468b"
      },
      "outputs": [
        {
          "output_type": "stream",
          "name": "stdout",
          "text": [
            "Random Forest - macro F1 score: 0.6908\n"
          ]
        }
      ],
      "source": [
        "macro_f1_rf = f1_score(y_test, pred_rf, average='macro')\n",
        "print(f\"Random Forest - macro F1 score: {macro_f1_rf:.4f}\")"
      ]
    },
    {
      "cell_type": "code",
      "execution_count": 22,
      "metadata": {
        "colab": {
          "base_uri": "https://localhost:8080/",
          "height": 472
        },
        "id": "dPI_rjbAhVbu",
        "outputId": "2a2e4179-f275-494f-802e-c24d350ff8a0"
      },
      "outputs": [
        {
          "output_type": "display_data",
          "data": {
            "text/plain": [
              "<Figure size 640x480 with 2 Axes>"
            ],
            "image/png": "[encoded data removed]"
          },
          "metadata": {}
        }
      ],
      "source": [
        "cm_rf = confusion_matrix(y_test, pred_rf)\n",
        "\n",
        "disp = ConfusionMatrixDisplay(confusion_matrix=cm_rf, display_labels=labels)\n",
        "disp.plot(cmap=plt.cm.Greens)\n",
        "plt.title(\"Confusion Matrix - Random Forest\")\n",
        "plt.show()"
      ]
    },
    {
      "cell_type": "markdown",
      "metadata": {
        "id": "cP4fITGPSecP"
      },
      "source": [
        "### Naive Bayes"
      ]
    },
    {
      "cell_type": "code",
      "execution_count": 23,
      "metadata": {
        "id": "K8DaHZUCSecP"
      },
      "outputs": [],
      "source": [
        "from sklearn.naive_bayes import MultinomialNB\n",
        "\n",
        "def tune_naive_bayes(X_train, y_train, X_val, y_val, param_grid):\n",
        "    best_model = None\n",
        "    best_params = None\n",
        "    best_score = 0\n",
        "\n",
        "    param_combinations = product(*param_grid.values())\n",
        "\n",
        "    for params in param_combinations:\n",
        "        current_params = dict(zip(param_grid.keys(), params))\n",
        "        print(current_params)\n",
        "        model = MultinomialNB(**current_params)\n",
        "        model.fit(X_train, y_train)\n",
        "        val_predictions = model.predict(X_val)\n",
        "        val_score = accuracy_score(y_val, val_predictions)\n",
        "        print(f\"Validation accuracy: {val_score:.4f}\\n\")\n",
        "\n",
        "        if val_score > best_score:\n",
        "            best_score = val_score\n",
        "            best_model = model\n",
        "            best_params = current_params\n",
        "\n",
        "    print(\"Best Parameters:\", best_params)\n",
        "    print(\"Best Validation Accuracy:\", best_score)\n",
        "\n",
        "    return best_model, best_params, best_score"
      ]
    },
    {
      "cell_type": "code",
      "execution_count": 24,
      "metadata": {
        "id": "iW9ZoXylSecP"
      },
      "outputs": [],
      "source": [
        "param_grid = {\n",
        "    'alpha': [0.1, 0.5, 1.0, 2.0, 5.0]\n",
        "}"
      ]
    },
    {
      "cell_type": "code",
      "execution_count": 25,
      "metadata": {
        "id": "4QMRjbIMSecP",
        "outputId": "96c47e42-bab2-45a3-aedf-48655b03bd20",
        "colab": {
          "base_uri": "https://localhost:8080/"
        }
      },
      "outputs": [
        {
          "output_type": "stream",
          "name": "stdout",
          "text": [
            "{'alpha': 0.1}\n",
            "Validation accuracy: 0.6007\n",
            "\n",
            "{'alpha': 0.5}\n",
            "Validation accuracy: 0.6325\n",
            "\n",
            "{'alpha': 1.0}\n",
            "Validation accuracy: 0.6478\n",
            "\n",
            "{'alpha': 2.0}\n",
            "Validation accuracy: 0.6542\n",
            "\n",
            "{'alpha': 5.0}\n",
            "Validation accuracy: 0.6539\n",
            "\n",
            "Best Parameters: {'alpha': 2.0}\n",
            "Best Validation Accuracy: 0.6541512427287149\n"
          ]
        }
      ],
      "source": [
        "best_model_nb, best_params_nb, best_score_nb = tune_naive_bayes(X_train_vec, y_train, X_val_vec, y_val, param_grid)"
      ]
    },
    {
      "cell_type": "code",
      "execution_count": 26,
      "metadata": {
        "id": "gU-NF7zRSecP",
        "outputId": "6f542aae-2c32-4982-ddf3-8c0f6368515b",
        "colab": {
          "base_uri": "https://localhost:8080/"
        }
      },
      "outputs": [
        {
          "output_type": "stream",
          "name": "stdout",
          "text": [
            "              precision    recall  f1-score   support\n",
            "\n",
            "    Negative       0.66      0.74      0.69      1561\n",
            "     Neutral       0.58      0.42      0.49      1610\n",
            "    Positive       0.66      0.76      0.71      1556\n",
            "\n",
            "    accuracy                           0.64      4727\n",
            "   macro avg       0.63      0.64      0.63      4727\n",
            "weighted avg       0.63      0.64      0.63      4727\n",
            "\n"
          ]
        }
      ],
      "source": [
        "pred_nb = best_model_nb.predict(X_test_vec)\n",
        "print(classification_report(y_test, pred_nb))"
      ]
    },
    {
      "cell_type": "code",
      "execution_count": 27,
      "metadata": {
        "id": "HYRXBh4-SecP",
        "outputId": "1bfac300-dbb7-4f50-c2ee-e2114ef3c8b4",
        "colab": {
          "base_uri": "https://localhost:8080/"
        }
      },
      "outputs": [
        {
          "output_type": "stream",
          "name": "stdout",
          "text": [
            "Naive Bayes - macro F1 score: 0.6306\n"
          ]
        }
      ],
      "source": [
        "macro_f1_nb = f1_score(y_test, pred_nb, average='macro')\n",
        "print(f\"Naive Bayes - macro F1 score: {macro_f1_nb:.4f}\")"
      ]
    },
    {
      "cell_type": "code",
      "execution_count": 31,
      "metadata": {
        "id": "_WrFKqSBSecP",
        "outputId": "a0e4cc16-edb0-49a9-ea92-f44ef3d3db25",
        "colab": {
          "base_uri": "https://localhost:8080/",
          "height": 472
        }
      },
      "outputs": [
        {
          "output_type": "display_data",
          "data": {
            "text/plain": [
              "<Figure size 640x480 with 2 Axes>"
            ],
            "image/png": "[encoded data removed]"
          },
          "metadata": {}
        }
      ],
      "source": [
        "cm_nb = confusion_matrix(y_test, pred_nb)\n",
        "disp = ConfusionMatrixDisplay(confusion_matrix=cm_nb, display_labels=labels)\n",
        "disp.plot(cmap=plt.cm.Greens)\n",
        "plt.title(\"Confusion Matrix - Naive Bayes\")\n",
        "plt.show()"
      ]
    },
    {
      "cell_type": "markdown",
      "metadata": {
        "id": "anu_1zxHSecP"
      },
      "source": [
        "### Neural Network"
      ]
    },
    {
      "cell_type": "code",
      "execution_count": 32,
      "metadata": {
        "id": "R2qeqyHxSecP"
      },
      "outputs": [],
      "source": [
        "from tensorflow.keras.models import Sequential\n",
        "from tensorflow.keras.layers import Dense, Dropout\n",
        "from tensorflow.keras.utils import to_categorical\n",
        "from tensorflow.keras.optimizers import Adam\n",
        "from sklearn.preprocessing import LabelEncoder\n"
      ]
    },
    {
      "cell_type": "code",
      "execution_count": 33,
      "metadata": {
        "id": "oCg5M1ktSecP"
      },
      "outputs": [],
      "source": [
        "le = LabelEncoder()\n",
        "y_train_enc = le.fit_transform(y_train)\n",
        "y_val_enc = le.transform(y_val)\n",
        "y_test_enc = le.transform(y_test)\n",
        "\n",
        "y_train_cat = to_categorical(y_train_enc)\n",
        "y_val_cat = to_categorical(y_val_enc)\n",
        "y_test_cat = to_categorical(y_test_enc)\n"
      ]
    },
    {
      "cell_type": "code",
      "execution_count": 34,
      "metadata": {
        "id": "7UgYKZvmSecP"
      },
      "outputs": [],
      "source": [
        "param_grid = {\n",
        "    'units': [64, 128],\n",
        "    'dropout': [0.3, 0.5],\n",
        "    'batch_size': [32],\n",
        "    'epochs': [10]\n",
        "}"
      ]
    },
    {
      "cell_type": "code",
      "execution_count": 36,
      "metadata": {
        "id": "-elQQ5kXSecQ",
        "outputId": "2b3c8f18-1623-41fc-d68c-1d43f116fad7",
        "colab": {
          "base_uri": "https://localhost:8080/"
        }
      },
      "outputs": [
        {
          "output_type": "stream",
          "name": "stdout",
          "text": [
            "Trying: {'units': 64, 'dropout': 0.3, 'batch_size': 32, 'epochs': 10}\n",
            "Validation Accuracy: 0.6354\n",
            "\n",
            "Trying: {'units': 64, 'dropout': 0.5, 'batch_size': 32, 'epochs': 10}\n",
            "Validation Accuracy: 0.6497\n",
            "\n",
            "Trying: {'units': 128, 'dropout': 0.3, 'batch_size': 32, 'epochs': 10}\n",
            "Validation Accuracy: 0.6452\n",
            "\n",
            "Trying: {'units': 128, 'dropout': 0.5, 'batch_size': 32, 'epochs': 10}\n",
            "Validation Accuracy: 0.6423\n",
            "\n"
          ]
        }
      ],
      "source": [
        "best_score = 0\n",
        "best_model = None\n",
        "best_params = None\n",
        "\n",
        "for values in product(*param_grid.values()):\n",
        "    hparams = dict(zip(param_grid.keys(), values))\n",
        "    print(\"Trying:\", hparams)\n",
        "\n",
        "    model = Sequential()\n",
        "    model.add(Dense(hparams['units'], input_shape=(X_train_vec.shape[1],), activation='relu'))\n",
        "    model.add(Dropout(hparams['dropout']))\n",
        "    model.add(Dense(hparams['units'] //  2, activation='relu'))\n",
        "    model.add(Dropout(hparams['dropout']))\n",
        "    model.add(Dense(3, activation='softmax'))\n",
        "\n",
        "    model.compile(optimizer='adam', loss='categorical_crossentropy', metrics=['accuracy'])\n",
        "\n",
        "    model.fit(\n",
        "        X_train_vec.toarray(), y_train_cat,\n",
        "        validation_data=(X_val_vec.toarray(), y_val_cat),\n",
        "        epochs=hparams['epochs'],\n",
        "        batch_size=hparams['batch_size'],\n",
        "        verbose=0\n",
        "    )\n",
        "\n",
        "    val_loss, val_acc = model.evaluate(X_val_vec.toarray(), y_val_cat, verbose=0)\n",
        "    print(f\"Validation Accuracy: {val_acc:.4f}\\n\")\n",
        "\n",
        "    if val_acc > best_score:\n",
        "        best_score = val_acc\n",
        "        best_model = model\n",
        "        best_params = hparams"
      ]
    },
    {
      "cell_type": "code",
      "execution_count": 37,
      "metadata": {
        "id": "CRh16kshSecQ",
        "outputId": "4929f244-d372-4f87-cb91-a3b530bdb8fc",
        "colab": {
          "base_uri": "https://localhost:8080/"
        }
      },
      "outputs": [
        {
          "output_type": "stream",
          "name": "stdout",
          "text": [
            "Best hyperparameters: {'units': 64, 'dropout': 0.5, 'batch_size': 32, 'epochs': 10}\n",
            "Neural Network - Test Accuracy: 0.6313\n"
          ]
        }
      ],
      "source": [
        "print(\"Best hyperparameters:\", best_params)\n",
        "score = best_model.evaluate(X_test_vec.toarray(), y_test_cat, verbose=0)\n",
        "print(f\"Neural Network - Test Accuracy: {score[1]:.4f}\")"
      ]
    },
    {
      "cell_type": "code",
      "execution_count": 38,
      "metadata": {
        "id": "zTMwP4FRSecQ",
        "outputId": "15c4fff2-98c4-4288-97fe-129e14bce68d",
        "colab": {
          "base_uri": "https://localhost:8080/"
        }
      },
      "outputs": [
        {
          "output_type": "stream",
          "name": "stdout",
          "text": [
            "\u001b[1m148/148\u001b[0m \u001b[32m━━━━━━━━━━━━━━━━━━━━\u001b[0m\u001b[37m\u001b[0m \u001b[1m1s\u001b[0m 4ms/step\n",
            "              precision    recall  f1-score   support\n",
            "\n",
            "           0       0.65      0.66      0.66      1561\n",
            "           1       0.53      0.56      0.55      1610\n",
            "           2       0.72      0.67      0.70      1556\n",
            "\n",
            "    accuracy                           0.63      4727\n",
            "   macro avg       0.64      0.63      0.63      4727\n",
            "weighted avg       0.64      0.63      0.63      4727\n",
            "\n",
            "Neural Network - macro F1 score: 0.6338\n"
          ]
        }
      ],
      "source": [
        "pred_nn = best_model.predict(X_test_vec.toarray())\n",
        "pred_nn_labels = np.argmax(pred_nn, axis=1)\n",
        "\n",
        "print(classification_report(y_test_enc, pred_nn_labels))\n",
        "macro_f1_nn = f1_score(y_test_enc, pred_nn_labels, average='macro')\n",
        "print(f\"Neural Network - macro F1 score: {macro_f1_nn:.4f}\")"
      ]
    },
    {
      "cell_type": "code",
      "execution_count": 39,
      "metadata": {
        "id": "qBnSUgjDSecQ",
        "outputId": "dfa4201b-53ee-4217-8b36-0794e4b50226",
        "colab": {
          "base_uri": "https://localhost:8080/",
          "height": 472
        }
      },
      "outputs": [
        {
          "output_type": "display_data",
          "data": {
            "text/plain": [
              "<Figure size 640x480 with 2 Axes>"
            ],
            "image/png": "[encoded data removed]"
          },
          "metadata": {}
        }
      ],
      "source": [
        "cm_nn = confusion_matrix(y_test_enc, pred_nn_labels)\n",
        "disp = ConfusionMatrixDisplay(confusion_matrix=cm_nn, display_labels=le.classes_)\n",
        "disp.plot(cmap=plt.cm.Greens)\n",
        "plt.title(\"Confusion Matrix - Neural Network\")\n",
        "plt.show()"
      ]
    },
    {
      "cell_type": "markdown",
      "metadata": {
        "id": "-oDjhbSPRwRv"
      },
      "source": [
        "# Fine-tuning pretrained ModernBERT model\n",
        "Converting the dataset into the correct format."
      ]
    },
    {
      "cell_type": "code",
      "execution_count": null,
      "metadata": {
        "id": "jkR3cF10WlTy"
      },
      "outputs": [],
      "source": [
        "_ = !pip install -U datasets"
      ]
    },
    {
      "cell_type": "code",
      "execution_count": null,
      "metadata": {
        "id": "Qi4I-mZW5VAY"
      },
      "outputs": [],
      "source": [
        "from transformers import AutoTokenizer\n",
        "\n",
        "checkpoint = \"answerdotai/ModernBERT-base\"\n",
        "tokenizer = AutoTokenizer.from_pretrained(checkpoint)"
      ]
    },
    {
      "cell_type": "code",
      "execution_count": null,
      "metadata": {
        "colab": {
          "base_uri": "https://localhost:8080/"
        },
        "id": "rg8C8a24Jkue",
        "outputId": "0e7d116a-f156-44eb-b751-28a48c3d88ed"
      },
      "outputs": [
        {
          "data": {
            "text/plain": [
              "Dataset({\n",
              "    features: ['text', 'label', '__index_level_0__'],\n",
              "    num_rows: 15125\n",
              "})"
            ]
          },
          "execution_count": 10,
          "metadata": {},
          "output_type": "execute_result"
        }
      ],
      "source": [
        "from datasets import Dataset, DatasetDict\n",
        "\n",
        "train_df = pd.DataFrame({'text': X_train, 'label': y_train})\n",
        "val_df   = pd.DataFrame({'text': X_val, 'label': y_val})\n",
        "test_df  = pd.DataFrame({'text': X_test, 'label': y_test})\n",
        "\n",
        "train_dataset = Dataset.from_pandas(train_df)\n",
        "val_dataset   = Dataset.from_pandas(val_df)\n",
        "test_dataset  = Dataset.from_pandas(test_df)\n",
        "\n",
        "train_dataset"
      ]
    },
    {
      "cell_type": "code",
      "execution_count": null,
      "metadata": {
        "colab": {
          "base_uri": "https://localhost:8080/"
        },
        "id": "w2uRyg8sRcO2",
        "outputId": "3539bc17-cda9-46ac-88f3-207dd29f75c0"
      },
      "outputs": [
        {
          "data": {
            "text/plain": [
              "Dataset({\n",
              "    features: ['text', 'label'],\n",
              "    num_rows: 15125\n",
              "})"
            ]
          },
          "execution_count": 11,
          "metadata": {},
          "output_type": "execute_result"
        }
      ],
      "source": [
        "train_dataset = train_dataset.remove_columns([\"__index_level_0__\"])\n",
        "val_dataset   = val_dataset.remove_columns([\"__index_level_0__\"])\n",
        "test_dataset  = test_dataset.remove_columns([\"__index_level_0__\"])\n",
        "\n",
        "train_dataset"
      ]
    },
    {
      "cell_type": "code",
      "execution_count": null,
      "metadata": {
        "colab": {
          "base_uri": "https://localhost:8080/"
        },
        "id": "zXLYcbIsRi1o",
        "outputId": "f45a2320-2f3b-4068-a59e-ea532a44582f"
      },
      "outputs": [
        {
          "data": {
            "text/plain": [
              "DatasetDict({\n",
              "    train: Dataset({\n",
              "        features: ['text', 'label'],\n",
              "        num_rows: 15125\n",
              "    })\n",
              "    validation: Dataset({\n",
              "        features: ['text', 'label'],\n",
              "        num_rows: 3782\n",
              "    })\n",
              "    test: Dataset({\n",
              "        features: ['text', 'label'],\n",
              "        num_rows: 4727\n",
              "    })\n",
              "})"
            ]
          },
          "execution_count": 12,
          "metadata": {},
          "output_type": "execute_result"
        }
      ],
      "source": [
        "dataset_dict = DatasetDict({\n",
        "    'train': train_dataset,\n",
        "    'validation': val_dataset,\n",
        "    'test': test_dataset\n",
        "})\n",
        "dataset_dict"
      ]
    },
    {
      "cell_type": "code",
      "execution_count": null,
      "metadata": {
        "id": "ifrY-L-6RswS"
      },
      "outputs": [],
      "source": [
        "id2label = {0: \"Neutral\", 1: \"Negative\", 2: \"Positive\"}\n",
        "label2id = {\"Neutral\": 0, \"Negative\": 1, \"Positive\": 2}"
      ]
    },
    {
      "cell_type": "code",
      "execution_count": null,
      "metadata": {
        "id": "B6iedPx4YAIy"
      },
      "outputs": [],
      "source": [
        "def encode_labels(example):\n",
        "    example['label'] = label2id[example['label']]\n",
        "    return example\n",
        "\n",
        "dataset_dict = dataset_dict.map(encode_labels)"
      ]
    },
    {
      "cell_type": "code",
      "execution_count": null,
      "metadata": {
        "id": "d8hp6HdxT9Uz"
      },
      "outputs": [],
      "source": [
        "def tokenize_function(text):\n",
        "    return tokenizer(text[\"text\"], truncation=True)"
      ]
    },
    {
      "cell_type": "code",
      "execution_count": null,
      "metadata": {
        "id": "FjhUCxE3UJop"
      },
      "outputs": [],
      "source": [
        "tokenized_datasets = dataset_dict.map(tokenize_function, batched=True)\n",
        "tokenized_datasets"
      ]
    },
    {
      "cell_type": "code",
      "execution_count": null,
      "metadata": {
        "id": "AfCuMzJ4UO1h"
      },
      "outputs": [],
      "source": [
        "# Transformer models like BERT require that all input texts in a batch have the same length but our tokenized texts have different length.\n",
        "# Therefore we need DataCollatorWithPadding as it automatically pads inputs to the length of the longest text in the batch.\n",
        "from transformers import DataCollatorWithPadding\n",
        "\n",
        "data_collator = DataCollatorWithPadding(tokenizer=tokenizer)"
      ]
    },
    {
      "cell_type": "code",
      "execution_count": null,
      "metadata": {
        "colab": {
          "base_uri": "https://localhost:8080/"
        },
        "id": "A_M7Yt3_VXG1",
        "outputId": "eedf5427-8704-4d6a-ebfc-3003bdf6abe7"
      },
      "outputs": [
        {
          "name": "stdout",
          "output_type": "stream",
          "text": [
            "['labels', 'input_ids', 'attention_mask']\n"
          ]
        }
      ],
      "source": [
        "# Preprocessing tokenized dataset in a format required for the pretrained model\n",
        "tokenized_datasets = tokenized_datasets.remove_columns('text')\n",
        "tokenized_datasets = tokenized_datasets.rename_column('label','labels')\n",
        "tokenized_datasets.set_format(type='torch')\n",
        "print(tokenized_datasets['train'].column_names)"
      ]
    },
    {
      "cell_type": "code",
      "execution_count": null,
      "metadata": {
        "id": "aj6n07BdVsAN"
      },
      "outputs": [],
      "source": [
        "from torch.utils.data import DataLoader\n",
        "\n",
        "train_dataloader = DataLoader(\n",
        "    tokenized_datasets[\"train\"], shuffle=True, batch_size=32, collate_fn=data_collator\n",
        ")\n",
        "eval_dataloader = DataLoader(\n",
        "    tokenized_datasets[\"validation\"], batch_size=32, collate_fn=data_collator\n",
        ")\n",
        "test_dataloader = DataLoader(\n",
        "    tokenized_datasets[\"test\"], batch_size=32, collate_fn=data_collator\n",
        ")"
      ]
    },
    {
      "cell_type": "code",
      "execution_count": null,
      "metadata": {
        "colab": {
          "base_uri": "https://localhost:8080/"
        },
        "id": "7GFGGNbUV7B4",
        "outputId": "9b59c5c0-4cac-4757-fd06-66f7b47793fb"
      },
      "outputs": [
        {
          "data": {
            "text/plain": [
              "{'labels': torch.Size([32]),\n",
              " 'input_ids': torch.Size([32, 26]),\n",
              " 'attention_mask': torch.Size([32, 26])}"
            ]
          },
          "execution_count": 20,
          "metadata": {},
          "output_type": "execute_result"
        }
      ],
      "source": [
        "for batch in train_dataloader:\n",
        "    break\n",
        "{k: v.shape for k, v in batch.items()}"
      ]
    },
    {
      "cell_type": "code",
      "execution_count": null,
      "metadata": {
        "id": "xDKCi6dHV7f1"
      },
      "outputs": [],
      "source": [
        "# It loads a pretrained transformer model like BERT, adds a classification head and configures everything for classifying input texts.\n",
        "from transformers import AutoModelForSequenceClassification\n",
        "\n",
        "model_bert = AutoModelForSequenceClassification.from_pretrained(checkpoint, num_labels=3, id2label=id2label, label2id=label2id)"
      ]
    },
    {
      "cell_type": "code",
      "execution_count": null,
      "metadata": {
        "colab": {
          "base_uri": "https://localhost:8080/"
        },
        "id": "a7uHqIVBY3y8",
        "outputId": "cd4f3c55-7149-4b5f-d208-55fc9a7d0e87"
      },
      "outputs": [
        {
          "data": {
            "text/plain": [
              "ModernBertForSequenceClassification(\n",
              "  (model): ModernBertModel(\n",
              "    (embeddings): ModernBertEmbeddings(\n",
              "      (tok_embeddings): Embedding(50368, 768, padding_idx=50283)\n",
              "      (norm): LayerNorm((768,), eps=1e-05, elementwise_affine=True)\n",
              "      (drop): Dropout(p=0.0, inplace=False)\n",
              "    )\n",
              "    (layers): ModuleList(\n",
              "      (0): ModernBertEncoderLayer(\n",
              "        (attn_norm): Identity()\n",
              "        (attn): ModernBertAttention(\n",
              "          (Wqkv): Linear(in_features=768, out_features=2304, bias=False)\n",
              "          (rotary_emb): ModernBertRotaryEmbedding()\n",
              "          (Wo): Linear(in_features=768, out_features=768, bias=False)\n",
              "          (out_drop): Identity()\n",
              "        )\n",
              "        (mlp_norm): LayerNorm((768,), eps=1e-05, elementwise_affine=True)\n",
              "        (mlp): ModernBertMLP(\n",
              "          (Wi): Linear(in_features=768, out_features=2304, bias=False)\n",
              "          (act): GELUActivation()\n",
              "          (drop): Dropout(p=0.0, inplace=False)\n",
              "          (Wo): Linear(in_features=1152, out_features=768, bias=False)\n",
              "        )\n",
              "      )\n",
              "      (1-21): 21 x ModernBertEncoderLayer(\n",
              "        (attn_norm): LayerNorm((768,), eps=1e-05, elementwise_affine=True)\n",
              "        (attn): ModernBertAttention(\n",
              "          (Wqkv): Linear(in_features=768, out_features=2304, bias=False)\n",
              "          (rotary_emb): ModernBertRotaryEmbedding()\n",
              "          (Wo): Linear(in_features=768, out_features=768, bias=False)\n",
              "          (out_drop): Identity()\n",
              "        )\n",
              "        (mlp_norm): LayerNorm((768,), eps=1e-05, elementwise_affine=True)\n",
              "        (mlp): ModernBertMLP(\n",
              "          (Wi): Linear(in_features=768, out_features=2304, bias=False)\n",
              "          (act): GELUActivation()\n",
              "          (drop): Dropout(p=0.0, inplace=False)\n",
              "          (Wo): Linear(in_features=1152, out_features=768, bias=False)\n",
              "        )\n",
              "      )\n",
              "    )\n",
              "    (final_norm): LayerNorm((768,), eps=1e-05, elementwise_affine=True)\n",
              "  )\n",
              "  (head): ModernBertPredictionHead(\n",
              "    (dense): Linear(in_features=768, out_features=768, bias=False)\n",
              "    (act): GELUActivation()\n",
              "    (norm): LayerNorm((768,), eps=1e-05, elementwise_affine=True)\n",
              "  )\n",
              "  (drop): Dropout(p=0.0, inplace=False)\n",
              "  (classifier): Linear(in_features=768, out_features=3, bias=True)\n",
              ")"
            ]
          },
          "execution_count": 30,
          "metadata": {},
          "output_type": "execute_result"
        }
      ],
      "source": [
        "model_bert.to(device)"
      ]
    },
    {
      "cell_type": "code",
      "execution_count": null,
      "metadata": {
        "id": "jX6ZkDcbZ5BU"
      },
      "outputs": [],
      "source": [
        "def compute_metrics(eval_pred):\n",
        "    logits, labels = eval_pred\n",
        "    preds = np.argmax(logits, axis=1)\n",
        "    return {\"accuracy\": accuracy_score(labels, preds)}"
      ]
    },
    {
      "cell_type": "code",
      "execution_count": null,
      "metadata": {
        "id": "aC4hEyN-anaj"
      },
      "outputs": [],
      "source": [
        "from transformers import Trainer, TrainingArguments\n",
        "\n",
        "def train_and_eval_model(model, hparams, checkpoint, tokenized_datasets):\n",
        "\n",
        "    training_args = TrainingArguments(\n",
        "        output_dir=\"./results\",\n",
        "        eval_strategy=\"epoch\",\n",
        "        save_strategy=\"no\",\n",
        "        learning_rate=hparams['learning_rate'],\n",
        "        per_device_train_batch_size=hparams['batch_size'],\n",
        "        per_device_eval_batch_size=hparams['batch_size'],\n",
        "        num_train_epochs=hparams['epochs'],\n",
        "        weight_decay=hparams.get('weight_decay', 0.01),\n",
        "        report_to=\"none\",\n",
        "        logging_dir=None,\n",
        "        logging_steps=10\n",
        "    )\n",
        "\n",
        "    trainer = Trainer(\n",
        "        model=model,\n",
        "        args=training_args,\n",
        "        train_dataset=tokenized_datasets[\"train\"],\n",
        "        eval_dataset=tokenized_datasets[\"validation\"],\n",
        "        tokenizer=tokenizer,\n",
        "        data_collator=data_collator,\n",
        "        compute_metrics=compute_metrics\n",
        "    )\n",
        "\n",
        "    trainer.train()\n",
        "    eval_results = trainer.evaluate()\n",
        "    return eval_results[\"eval_accuracy\"], model, hparams"
      ]
    },
    {
      "cell_type": "code",
      "execution_count": null,
      "metadata": {
        "colab": {
          "base_uri": "https://localhost:8080/",
          "height": 1000
        },
        "id": "IZJCE2QPayHO",
        "outputId": "9eed9c90-9557-4ad5-dceb-587285cbb43d"
      },
      "outputs": [
        {
          "name": "stdout",
          "output_type": "stream",
          "text": [
            "{'learning_rate': 2e-05, 'batch_size': 8, 'epochs': 2}\n"
          ]
        },
        {
          "name": "stderr",
          "output_type": "stream",
          "text": [
            "<ipython-input-34-2481ff29e19c>:19: FutureWarning: `tokenizer` is deprecated and will be removed in version 5.0.0 for `Trainer.__init__`. Use `processing_class` instead.\n",
            "  trainer = Trainer(\n",
            "W0604 20:02:19.871000 245 torch/_inductor/utils.py:1137] [1/0] Not enough SMs to use max_autotune_gemm mode\n"
          ]
        },
        {
          "data": {
            "text/html": [
              "\n",
              "    <div>\n",
              "      \n",
              "      <progress value='3782' max='3782' style='width:300px; height:20px; vertical-align: middle;'></progress>\n",
              "      [3782/3782 08:59, Epoch 2/2]\n",
              "    </div>\n",
              "    <table border=\"1\" class=\"dataframe\">\n",
              "  <thead>\n",
              " <tr style=\"text-align: left;\">\n",
              "      <th>Epoch</th>\n",
              "      <th>Training Loss</th>\n",
              "      <th>Validation Loss</th>\n",
              "      <th>Accuracy</th>\n",
              "    </tr>\n",
              "  </thead>\n",
              "  <tbody>\n",
              "    <tr>\n",
              "      <td>1</td>\n",
              "      <td>0.605600</td>\n",
              "      <td>0.581387</td>\n",
              "      <td>0.763882</td>\n",
              "    </tr>\n",
              "    <tr>\n",
              "      <td>2</td>\n",
              "      <td>0.294400</td>\n",
              "      <td>0.646102</td>\n",
              "      <td>0.764939</td>\n",
              "    </tr>\n",
              "  </tbody>\n",
              "</table><p>"
            ],
            "text/plain": [
              "<IPython.core.display.HTML object>"
            ]
          },
          "metadata": {},
          "output_type": "display_data"
        },
        {
          "data": {
            "text/html": [
              "\n",
              "    <div>\n",
              "      \n",
              "      <progress value='473' max='473' style='width:300px; height:20px; vertical-align: middle;'></progress>\n",
              "      [473/473 00:14]\n",
              "    </div>\n",
              "    "
            ],
            "text/plain": [
              "<IPython.core.display.HTML object>"
            ]
          },
          "metadata": {},
          "output_type": "display_data"
        },
        {
          "name": "stdout",
          "output_type": "stream",
          "text": [
            "Validation Accuracy: 0.7649\n",
            "{'learning_rate': 2e-05, 'batch_size': 8, 'epochs': 3}\n"
          ]
        },
        {
          "name": "stderr",
          "output_type": "stream",
          "text": [
            "<ipython-input-34-2481ff29e19c>:19: FutureWarning: `tokenizer` is deprecated and will be removed in version 5.0.0 for `Trainer.__init__`. Use `processing_class` instead.\n",
            "  trainer = Trainer(\n"
          ]
        },
        {
          "data": {
            "text/html": [
              "\n",
              "    <div>\n",
              "      \n",
              "      <progress value='5673' max='5673' style='width:300px; height:20px; vertical-align: middle;'></progress>\n",
              "      [5673/5673 12:39, Epoch 3/3]\n",
              "    </div>\n",
              "    <table border=\"1\" class=\"dataframe\">\n",
              "  <thead>\n",
              " <tr style=\"text-align: left;\">\n",
              "      <th>Epoch</th>\n",
              "      <th>Training Loss</th>\n",
              "      <th>Validation Loss</th>\n",
              "      <th>Accuracy</th>\n",
              "    </tr>\n",
              "  </thead>\n",
              "  <tbody>\n",
              "    <tr>\n",
              "      <td>1</td>\n",
              "      <td>0.481800</td>\n",
              "      <td>0.838873</td>\n",
              "      <td>0.747753</td>\n",
              "    </tr>\n",
              "    <tr>\n",
              "      <td>2</td>\n",
              "      <td>0.158100</td>\n",
              "      <td>1.438116</td>\n",
              "      <td>0.746959</td>\n",
              "    </tr>\n",
              "    <tr>\n",
              "      <td>3</td>\n",
              "      <td>0.004900</td>\n",
              "      <td>2.254251</td>\n",
              "      <td>0.745108</td>\n",
              "    </tr>\n",
              "  </tbody>\n",
              "</table><p>"
            ],
            "text/plain": [
              "<IPython.core.display.HTML object>"
            ]
          },
          "metadata": {},
          "output_type": "display_data"
        },
        {
          "data": {
            "text/html": [
              "\n",
              "    <div>\n",
              "      \n",
              "      <progress value='473' max='473' style='width:300px; height:20px; vertical-align: middle;'></progress>\n",
              "      [473/473 00:14]\n",
              "    </div>\n",
              "    "
            ],
            "text/plain": [
              "<IPython.core.display.HTML object>"
            ]
          },
          "metadata": {},
          "output_type": "display_data"
        },
        {
          "name": "stdout",
          "output_type": "stream",
          "text": [
            "Validation Accuracy: 0.7451\n",
            "{'learning_rate': 2e-05, 'batch_size': 16, 'epochs': 2}\n"
          ]
        },
        {
          "name": "stderr",
          "output_type": "stream",
          "text": [
            "<ipython-input-34-2481ff29e19c>:19: FutureWarning: `tokenizer` is deprecated and will be removed in version 5.0.0 for `Trainer.__init__`. Use `processing_class` instead.\n",
            "  trainer = Trainer(\n"
          ]
        },
        {
          "data": {
            "text/html": [
              "\n",
              "    <div>\n",
              "      \n",
              "      <progress value='1892' max='1892' style='width:300px; height:20px; vertical-align: middle;'></progress>\n",
              "      [1892/1892 04:59, Epoch 2/2]\n",
              "    </div>\n",
              "    <table border=\"1\" class=\"dataframe\">\n",
              "  <thead>\n",
              " <tr style=\"text-align: left;\">\n",
              "      <th>Epoch</th>\n",
              "      <th>Training Loss</th>\n",
              "      <th>Validation Loss</th>\n",
              "      <th>Accuracy</th>\n",
              "    </tr>\n",
              "  </thead>\n",
              "  <tbody>\n",
              "    <tr>\n",
              "      <td>1</td>\n",
              "      <td>0.052900</td>\n",
              "      <td>2.482021</td>\n",
              "      <td>0.742200</td>\n",
              "    </tr>\n",
              "    <tr>\n",
              "      <td>2</td>\n",
              "      <td>0.000400</td>\n",
              "      <td>2.624651</td>\n",
              "      <td>0.749075</td>\n",
              "    </tr>\n",
              "  </tbody>\n",
              "</table><p>"
            ],
            "text/plain": [
              "<IPython.core.display.HTML object>"
            ]
          },
          "metadata": {},
          "output_type": "display_data"
        },
        {
          "data": {
            "text/html": [
              "\n",
              "    <div>\n",
              "      \n",
              "      <progress value='237' max='237' style='width:300px; height:20px; vertical-align: middle;'></progress>\n",
              "      [237/237 00:08]\n",
              "    </div>\n",
              "    "
            ],
            "text/plain": [
              "<IPython.core.display.HTML object>"
            ]
          },
          "metadata": {},
          "output_type": "display_data"
        },
        {
          "name": "stdout",
          "output_type": "stream",
          "text": [
            "Validation Accuracy: 0.7491\n",
            "{'learning_rate': 2e-05, 'batch_size': 16, 'epochs': 3}\n"
          ]
        },
        {
          "name": "stderr",
          "output_type": "stream",
          "text": [
            "<ipython-input-34-2481ff29e19c>:19: FutureWarning: `tokenizer` is deprecated and will be removed in version 5.0.0 for `Trainer.__init__`. Use `processing_class` instead.\n",
            "  trainer = Trainer(\n"
          ]
        },
        {
          "data": {
            "text/html": [
              "\n",
              "    <div>\n",
              "      \n",
              "      <progress value='2838' max='2838' style='width:300px; height:20px; vertical-align: middle;'></progress>\n",
              "      [2838/2838 07:30, Epoch 3/3]\n",
              "    </div>\n",
              "    <table border=\"1\" class=\"dataframe\">\n",
              "  <thead>\n",
              " <tr style=\"text-align: left;\">\n",
              "      <th>Epoch</th>\n",
              "      <th>Training Loss</th>\n",
              "      <th>Validation Loss</th>\n",
              "      <th>Accuracy</th>\n",
              "    </tr>\n",
              "  </thead>\n",
              "  <tbody>\n",
              "    <tr>\n",
              "      <td>1</td>\n",
              "      <td>0.012600</td>\n",
              "      <td>2.606950</td>\n",
              "      <td>0.741671</td>\n",
              "    </tr>\n",
              "    <tr>\n",
              "      <td>2</td>\n",
              "      <td>0.000300</td>\n",
              "      <td>2.878307</td>\n",
              "      <td>0.744580</td>\n",
              "    </tr>\n",
              "    <tr>\n",
              "      <td>3</td>\n",
              "      <td>0.062600</td>\n",
              "      <td>2.924409</td>\n",
              "      <td>0.753041</td>\n",
              "    </tr>\n",
              "  </tbody>\n",
              "</table><p>"
            ],
            "text/plain": [
              "<IPython.core.display.HTML object>"
            ]
          },
          "metadata": {},
          "output_type": "display_data"
        },
        {
          "data": {
            "text/html": [
              "\n",
              "    <div>\n",
              "      \n",
              "      <progress value='237' max='237' style='width:300px; height:20px; vertical-align: middle;'></progress>\n",
              "      [237/237 00:08]\n",
              "    </div>\n",
              "    "
            ],
            "text/plain": [
              "<IPython.core.display.HTML object>"
            ]
          },
          "metadata": {},
          "output_type": "display_data"
        },
        {
          "name": "stdout",
          "output_type": "stream",
          "text": [
            "Validation Accuracy: 0.7530\n",
            "{'learning_rate': 3e-05, 'batch_size': 8, 'epochs': 2}\n"
          ]
        },
        {
          "name": "stderr",
          "output_type": "stream",
          "text": [
            "<ipython-input-34-2481ff29e19c>:19: FutureWarning: `tokenizer` is deprecated and will be removed in version 5.0.0 for `Trainer.__init__`. Use `processing_class` instead.\n",
            "  trainer = Trainer(\n"
          ]
        },
        {
          "data": {
            "text/html": [
              "\n",
              "    <div>\n",
              "      \n",
              "      <progress value='3782' max='3782' style='width:300px; height:20px; vertical-align: middle;'></progress>\n",
              "      [3782/3782 08:23, Epoch 2/2]\n",
              "    </div>\n",
              "    <table border=\"1\" class=\"dataframe\">\n",
              "  <thead>\n",
              " <tr style=\"text-align: left;\">\n",
              "      <th>Epoch</th>\n",
              "      <th>Training Loss</th>\n",
              "      <th>Validation Loss</th>\n",
              "      <th>Accuracy</th>\n",
              "    </tr>\n",
              "  </thead>\n",
              "  <tbody>\n",
              "    <tr>\n",
              "      <td>1</td>\n",
              "      <td>0.225600</td>\n",
              "      <td>3.027358</td>\n",
              "      <td>0.739291</td>\n",
              "    </tr>\n",
              "    <tr>\n",
              "      <td>2</td>\n",
              "      <td>0.120600</td>\n",
              "      <td>2.971681</td>\n",
              "      <td>0.747224</td>\n",
              "    </tr>\n",
              "  </tbody>\n",
              "</table><p>"
            ],
            "text/plain": [
              "<IPython.core.display.HTML object>"
            ]
          },
          "metadata": {},
          "output_type": "display_data"
        },
        {
          "data": {
            "text/html": [
              "\n",
              "    <div>\n",
              "      \n",
              "      <progress value='473' max='473' style='width:300px; height:20px; vertical-align: middle;'></progress>\n",
              "      [473/473 00:13]\n",
              "    </div>\n",
              "    "
            ],
            "text/plain": [
              "<IPython.core.display.HTML object>"
            ]
          },
          "metadata": {},
          "output_type": "display_data"
        },
        {
          "name": "stdout",
          "output_type": "stream",
          "text": [
            "Validation Accuracy: 0.7472\n",
            "{'learning_rate': 3e-05, 'batch_size': 8, 'epochs': 3}\n"
          ]
        },
        {
          "name": "stderr",
          "output_type": "stream",
          "text": [
            "<ipython-input-34-2481ff29e19c>:19: FutureWarning: `tokenizer` is deprecated and will be removed in version 5.0.0 for `Trainer.__init__`. Use `processing_class` instead.\n",
            "  trainer = Trainer(\n"
          ]
        },
        {
          "data": {
            "text/html": [
              "\n",
              "    <div>\n",
              "      \n",
              "      <progress value='5673' max='5673' style='width:300px; height:20px; vertical-align: middle;'></progress>\n",
              "      [5673/5673 12:40, Epoch 3/3]\n",
              "    </div>\n",
              "    <table border=\"1\" class=\"dataframe\">\n",
              "  <thead>\n",
              " <tr style=\"text-align: left;\">\n",
              "      <th>Epoch</th>\n",
              "      <th>Training Loss</th>\n",
              "      <th>Validation Loss</th>\n",
              "      <th>Accuracy</th>\n",
              "    </tr>\n",
              "  </thead>\n",
              "  <tbody>\n",
              "    <tr>\n",
              "      <td>1</td>\n",
              "      <td>0.322200</td>\n",
              "      <td>3.010278</td>\n",
              "      <td>0.728979</td>\n",
              "    </tr>\n",
              "    <tr>\n",
              "      <td>2</td>\n",
              "      <td>0.000700</td>\n",
              "      <td>2.672426</td>\n",
              "      <td>0.746166</td>\n",
              "    </tr>\n",
              "    <tr>\n",
              "      <td>3</td>\n",
              "      <td>0.000000</td>\n",
              "      <td>3.060601</td>\n",
              "      <td>0.748810</td>\n",
              "    </tr>\n",
              "  </tbody>\n",
              "</table><p>"
            ],
            "text/plain": [
              "<IPython.core.display.HTML object>"
            ]
          },
          "metadata": {},
          "output_type": "display_data"
        },
        {
          "data": {
            "text/html": [
              "\n",
              "    <div>\n",
              "      \n",
              "      <progress value='473' max='473' style='width:300px; height:20px; vertical-align: middle;'></progress>\n",
              "      [473/473 00:14]\n",
              "    </div>\n",
              "    "
            ],
            "text/plain": [
              "<IPython.core.display.HTML object>"
            ]
          },
          "metadata": {},
          "output_type": "display_data"
        },
        {
          "name": "stdout",
          "output_type": "stream",
          "text": [
            "Validation Accuracy: 0.7488\n",
            "{'learning_rate': 3e-05, 'batch_size': 16, 'epochs': 2}\n"
          ]
        },
        {
          "name": "stderr",
          "output_type": "stream",
          "text": [
            "<ipython-input-34-2481ff29e19c>:19: FutureWarning: `tokenizer` is deprecated and will be removed in version 5.0.0 for `Trainer.__init__`. Use `processing_class` instead.\n",
            "  trainer = Trainer(\n"
          ]
        },
        {
          "data": {
            "text/html": [
              "\n",
              "    <div>\n",
              "      \n",
              "      <progress value='1892' max='1892' style='width:300px; height:20px; vertical-align: middle;'></progress>\n",
              "      [1892/1892 04:59, Epoch 2/2]\n",
              "    </div>\n",
              "    <table border=\"1\" class=\"dataframe\">\n",
              "  <thead>\n",
              " <tr style=\"text-align: left;\">\n",
              "      <th>Epoch</th>\n",
              "      <th>Training Loss</th>\n",
              "      <th>Validation Loss</th>\n",
              "      <th>Accuracy</th>\n",
              "    </tr>\n",
              "  </thead>\n",
              "  <tbody>\n",
              "    <tr>\n",
              "      <td>1</td>\n",
              "      <td>0.000300</td>\n",
              "      <td>2.836256</td>\n",
              "      <td>0.749603</td>\n",
              "    </tr>\n",
              "    <tr>\n",
              "      <td>2</td>\n",
              "      <td>0.000200</td>\n",
              "      <td>2.828772</td>\n",
              "      <td>0.751719</td>\n",
              "    </tr>\n",
              "  </tbody>\n",
              "</table><p>"
            ],
            "text/plain": [
              "<IPython.core.display.HTML object>"
            ]
          },
          "metadata": {},
          "output_type": "display_data"
        },
        {
          "data": {
            "text/html": [
              "\n",
              "    <div>\n",
              "      \n",
              "      <progress value='237' max='237' style='width:300px; height:20px; vertical-align: middle;'></progress>\n",
              "      [237/237 00:08]\n",
              "    </div>\n",
              "    "
            ],
            "text/plain": [
              "<IPython.core.display.HTML object>"
            ]
          },
          "metadata": {},
          "output_type": "display_data"
        },
        {
          "name": "stdout",
          "output_type": "stream",
          "text": [
            "Validation Accuracy: 0.7517\n",
            "{'learning_rate': 3e-05, 'batch_size': 16, 'epochs': 3}\n"
          ]
        },
        {
          "name": "stderr",
          "output_type": "stream",
          "text": [
            "<ipython-input-34-2481ff29e19c>:19: FutureWarning: `tokenizer` is deprecated and will be removed in version 5.0.0 for `Trainer.__init__`. Use `processing_class` instead.\n",
            "  trainer = Trainer(\n"
          ]
        },
        {
          "data": {
            "text/html": [
              "\n",
              "    <div>\n",
              "      \n",
              "      <progress value='2838' max='2838' style='width:300px; height:20px; vertical-align: middle;'></progress>\n",
              "      [2838/2838 07:29, Epoch 3/3]\n",
              "    </div>\n",
              "    <table border=\"1\" class=\"dataframe\">\n",
              "  <thead>\n",
              " <tr style=\"text-align: left;\">\n",
              "      <th>Epoch</th>\n",
              "      <th>Training Loss</th>\n",
              "      <th>Validation Loss</th>\n",
              "      <th>Accuracy</th>\n",
              "    </tr>\n",
              "  </thead>\n",
              "  <tbody>\n",
              "    <tr>\n",
              "      <td>1</td>\n",
              "      <td>0.025200</td>\n",
              "      <td>2.995363</td>\n",
              "      <td>0.747753</td>\n",
              "    </tr>\n",
              "    <tr>\n",
              "      <td>2</td>\n",
              "      <td>0.003400</td>\n",
              "      <td>2.991602</td>\n",
              "      <td>0.745373</td>\n",
              "    </tr>\n",
              "    <tr>\n",
              "      <td>3</td>\n",
              "      <td>0.021600</td>\n",
              "      <td>3.108262</td>\n",
              "      <td>0.744844</td>\n",
              "    </tr>\n",
              "  </tbody>\n",
              "</table><p>"
            ],
            "text/plain": [
              "<IPython.core.display.HTML object>"
            ]
          },
          "metadata": {},
          "output_type": "display_data"
        },
        {
          "data": {
            "text/html": [
              "\n",
              "    <div>\n",
              "      \n",
              "      <progress value='237' max='237' style='width:300px; height:20px; vertical-align: middle;'></progress>\n",
              "      [237/237 00:08]\n",
              "    </div>\n",
              "    "
            ],
            "text/plain": [
              "<IPython.core.display.HTML object>"
            ]
          },
          "metadata": {},
          "output_type": "display_data"
        },
        {
          "name": "stdout",
          "output_type": "stream",
          "text": [
            "Validation Accuracy: 0.7448\n",
            "{'learning_rate': 5e-05, 'batch_size': 8, 'epochs': 2}\n"
          ]
        },
        {
          "name": "stderr",
          "output_type": "stream",
          "text": [
            "<ipython-input-34-2481ff29e19c>:19: FutureWarning: `tokenizer` is deprecated and will be removed in version 5.0.0 for `Trainer.__init__`. Use `processing_class` instead.\n",
            "  trainer = Trainer(\n"
          ]
        },
        {
          "data": {
            "text/html": [
              "\n",
              "    <div>\n",
              "      \n",
              "      <progress value='3782' max='3782' style='width:300px; height:20px; vertical-align: middle;'></progress>\n",
              "      [3782/3782 08:24, Epoch 2/2]\n",
              "    </div>\n",
              "    <table border=\"1\" class=\"dataframe\">\n",
              "  <thead>\n",
              " <tr style=\"text-align: left;\">\n",
              "      <th>Epoch</th>\n",
              "      <th>Training Loss</th>\n",
              "      <th>Validation Loss</th>\n",
              "      <th>Accuracy</th>\n",
              "    </tr>\n",
              "  </thead>\n",
              "  <tbody>\n",
              "    <tr>\n",
              "      <td>1</td>\n",
              "      <td>0.106400</td>\n",
              "      <td>2.462060</td>\n",
              "      <td>0.727922</td>\n",
              "    </tr>\n",
              "    <tr>\n",
              "      <td>2</td>\n",
              "      <td>0.000100</td>\n",
              "      <td>2.758303</td>\n",
              "      <td>0.740878</td>\n",
              "    </tr>\n",
              "  </tbody>\n",
              "</table><p>"
            ],
            "text/plain": [
              "<IPython.core.display.HTML object>"
            ]
          },
          "metadata": {},
          "output_type": "display_data"
        },
        {
          "data": {
            "text/html": [
              "\n",
              "    <div>\n",
              "      \n",
              "      <progress value='473' max='473' style='width:300px; height:20px; vertical-align: middle;'></progress>\n",
              "      [473/473 00:14]\n",
              "    </div>\n",
              "    "
            ],
            "text/plain": [
              "<IPython.core.display.HTML object>"
            ]
          },
          "metadata": {},
          "output_type": "display_data"
        },
        {
          "name": "stdout",
          "output_type": "stream",
          "text": [
            "Validation Accuracy: 0.7409\n",
            "{'learning_rate': 5e-05, 'batch_size': 8, 'epochs': 3}\n"
          ]
        },
        {
          "name": "stderr",
          "output_type": "stream",
          "text": [
            "<ipython-input-34-2481ff29e19c>:19: FutureWarning: `tokenizer` is deprecated and will be removed in version 5.0.0 for `Trainer.__init__`. Use `processing_class` instead.\n",
            "  trainer = Trainer(\n"
          ]
        },
        {
          "data": {
            "text/html": [
              "\n",
              "    <div>\n",
              "      \n",
              "      <progress value='5673' max='5673' style='width:300px; height:20px; vertical-align: middle;'></progress>\n",
              "      [5673/5673 12:36, Epoch 3/3]\n",
              "    </div>\n",
              "    <table border=\"1\" class=\"dataframe\">\n",
              "  <thead>\n",
              " <tr style=\"text-align: left;\">\n",
              "      <th>Epoch</th>\n",
              "      <th>Training Loss</th>\n",
              "      <th>Validation Loss</th>\n",
              "      <th>Accuracy</th>\n",
              "    </tr>\n",
              "  </thead>\n",
              "  <tbody>\n",
              "    <tr>\n",
              "      <td>1</td>\n",
              "      <td>0.069400</td>\n",
              "      <td>1.771805</td>\n",
              "      <td>0.734532</td>\n",
              "    </tr>\n",
              "    <tr>\n",
              "      <td>2</td>\n",
              "      <td>0.020200</td>\n",
              "      <td>2.029357</td>\n",
              "      <td>0.735854</td>\n",
              "    </tr>\n",
              "    <tr>\n",
              "      <td>3</td>\n",
              "      <td>0.000000</td>\n",
              "      <td>2.376944</td>\n",
              "      <td>0.744051</td>\n",
              "    </tr>\n",
              "  </tbody>\n",
              "</table><p>"
            ],
            "text/plain": [
              "<IPython.core.display.HTML object>"
            ]
          },
          "metadata": {},
          "output_type": "display_data"
        },
        {
          "data": {
            "text/html": [
              "\n",
              "    <div>\n",
              "      \n",
              "      <progress value='473' max='473' style='width:300px; height:20px; vertical-align: middle;'></progress>\n",
              "      [473/473 00:14]\n",
              "    </div>\n",
              "    "
            ],
            "text/plain": [
              "<IPython.core.display.HTML object>"
            ]
          },
          "metadata": {},
          "output_type": "display_data"
        },
        {
          "name": "stdout",
          "output_type": "stream",
          "text": [
            "Validation Accuracy: 0.7441\n",
            "{'learning_rate': 5e-05, 'batch_size': 16, 'epochs': 2}\n"
          ]
        },
        {
          "name": "stderr",
          "output_type": "stream",
          "text": [
            "<ipython-input-34-2481ff29e19c>:19: FutureWarning: `tokenizer` is deprecated and will be removed in version 5.0.0 for `Trainer.__init__`. Use `processing_class` instead.\n",
            "  trainer = Trainer(\n"
          ]
        },
        {
          "data": {
            "text/html": [
              "\n",
              "    <div>\n",
              "      \n",
              "      <progress value='1892' max='1892' style='width:300px; height:20px; vertical-align: middle;'></progress>\n",
              "      [1892/1892 04:59, Epoch 2/2]\n",
              "    </div>\n",
              "    <table border=\"1\" class=\"dataframe\">\n",
              "  <thead>\n",
              " <tr style=\"text-align: left;\">\n",
              "      <th>Epoch</th>\n",
              "      <th>Training Loss</th>\n",
              "      <th>Validation Loss</th>\n",
              "      <th>Accuracy</th>\n",
              "    </tr>\n",
              "  </thead>\n",
              "  <tbody>\n",
              "    <tr>\n",
              "      <td>1</td>\n",
              "      <td>0.022600</td>\n",
              "      <td>1.994737</td>\n",
              "      <td>0.742464</td>\n",
              "    </tr>\n",
              "    <tr>\n",
              "      <td>2</td>\n",
              "      <td>0.002000</td>\n",
              "      <td>2.227563</td>\n",
              "      <td>0.741142</td>\n",
              "    </tr>\n",
              "  </tbody>\n",
              "</table><p>"
            ],
            "text/plain": [
              "<IPython.core.display.HTML object>"
            ]
          },
          "metadata": {},
          "output_type": "display_data"
        },
        {
          "data": {
            "text/html": [
              "\n",
              "    <div>\n",
              "      \n",
              "      <progress value='237' max='237' style='width:300px; height:20px; vertical-align: middle;'></progress>\n",
              "      [237/237 00:08]\n",
              "    </div>\n",
              "    "
            ],
            "text/plain": [
              "<IPython.core.display.HTML object>"
            ]
          },
          "metadata": {},
          "output_type": "display_data"
        },
        {
          "name": "stdout",
          "output_type": "stream",
          "text": [
            "Validation Accuracy: 0.7411\n",
            "{'learning_rate': 5e-05, 'batch_size': 16, 'epochs': 3}\n"
          ]
        },
        {
          "name": "stderr",
          "output_type": "stream",
          "text": [
            "<ipython-input-34-2481ff29e19c>:19: FutureWarning: `tokenizer` is deprecated and will be removed in version 5.0.0 for `Trainer.__init__`. Use `processing_class` instead.\n",
            "  trainer = Trainer(\n"
          ]
        },
        {
          "data": {
            "text/html": [
              "\n",
              "    <div>\n",
              "      \n",
              "      <progress value='2838' max='2838' style='width:300px; height:20px; vertical-align: middle;'></progress>\n",
              "      [2838/2838 07:28, Epoch 3/3]\n",
              "    </div>\n",
              "    <table border=\"1\" class=\"dataframe\">\n",
              "  <thead>\n",
              " <tr style=\"text-align: left;\">\n",
              "      <th>Epoch</th>\n",
              "      <th>Training Loss</th>\n",
              "      <th>Validation Loss</th>\n",
              "      <th>Accuracy</th>\n",
              "    </tr>\n",
              "  </thead>\n",
              "  <tbody>\n",
              "    <tr>\n",
              "      <td>1</td>\n",
              "      <td>0.099000</td>\n",
              "      <td>1.928929</td>\n",
              "      <td>0.739027</td>\n",
              "    </tr>\n",
              "    <tr>\n",
              "      <td>2</td>\n",
              "      <td>0.000600</td>\n",
              "      <td>2.029079</td>\n",
              "      <td>0.736647</td>\n",
              "    </tr>\n",
              "    <tr>\n",
              "      <td>3</td>\n",
              "      <td>0.042400</td>\n",
              "      <td>2.228235</td>\n",
              "      <td>0.741142</td>\n",
              "    </tr>\n",
              "  </tbody>\n",
              "</table><p>"
            ],
            "text/plain": [
              "<IPython.core.display.HTML object>"
            ]
          },
          "metadata": {},
          "output_type": "display_data"
        },
        {
          "data": {
            "text/html": [
              "\n",
              "    <div>\n",
              "      \n",
              "      <progress value='237' max='237' style='width:300px; height:20px; vertical-align: middle;'></progress>\n",
              "      [237/237 00:08]\n",
              "    </div>\n",
              "    "
            ],
            "text/plain": [
              "<IPython.core.display.HTML object>"
            ]
          },
          "metadata": {},
          "output_type": "display_data"
        },
        {
          "name": "stdout",
          "output_type": "stream",
          "text": [
            "Validation Accuracy: 0.7411\n",
            "Best score: 0.7649391856160761\n",
            "Best parameters: {'learning_rate': 2e-05, 'batch_size': 8, 'epochs': 2}\n"
          ]
        }
      ],
      "source": [
        "param_grid = {\n",
        "    \"learning_rate\": [2e-5, 3e-5, 5e-5],\n",
        "    \"batch_size\": [8, 16],\n",
        "    \"epochs\": [2, 3]\n",
        "}\n",
        "\n",
        "best_score = 0\n",
        "best_model = None\n",
        "best_params = None\n",
        "\n",
        "for values in product(*param_grid.values()):\n",
        "    hparams = dict(zip(param_grid.keys(), values))\n",
        "    print(hparams)\n",
        "    score, model, used_params = train_and_eval_model(model_bert ,hparams, checkpoint, tokenized_datasets)\n",
        "    print(f\"Validation Accuracy: {score:.4f}\")\n",
        "\n",
        "    if score > best_score:\n",
        "        best_score = score\n",
        "        best_model = model\n",
        "        best_params = used_params\n",
        "\n",
        "best_model.save_pretrained(\"best_model/\")\n",
        "tokenizer.save_pretrained(\"best_model/\")\n",
        "\n",
        "print(\"Best score:\", best_score)\n",
        "print(\"Best parameters:\", best_params)"
      ]
    },
    {
      "cell_type": "code",
      "execution_count": null,
      "metadata": {
        "colab": {
          "base_uri": "https://localhost:8080/"
        },
        "id": "vNLnFxeHi0LE",
        "outputId": "5c6fb29b-1ff0-47e1-80d1-7453bc4bd840"
      },
      "outputs": [
        {
          "name": "stdout",
          "output_type": "stream",
          "text": [
            "  adding: best_model/ (stored 0%)\n",
            "  adding: best_model/config.json (deflated 58%)\n",
            "  adding: best_model/special_tokens_map.json (deflated 79%)\n",
            "  adding: best_model/tokenizer.json (deflated 82%)\n",
            "  adding: best_model/tokenizer_config.json (deflated 95%)\n",
            "  adding: best_model/model.safetensors (deflated 7%)\n"
          ]
        }
      ],
      "source": [
        "!zip -r best_model.zip best_model/"
      ]
    },
    {
      "cell_type": "code",
      "execution_count": null,
      "metadata": {
        "colab": {
          "base_uri": "https://localhost:8080/"
        },
        "id": "RRs-mx6Hi1Ck",
        "outputId": "54ff69ca-a3fc-4071-ecc7-c92770cb20b2"
      },
      "outputs": [
        {
          "data": {
            "application/javascript": "\n    async function download(id, filename, size) {\n      if (!google.colab.kernel.accessAllowed) {\n        return;\n      }\n      const div = document.createElement('div');\n      const label = document.createElement('label');\n      label.textContent = `Downloading \"${filename}\": `;\n      div.appendChild(label);\n      const progress = document.createElement('progress');\n      progress.max = size;\n      div.appendChild(progress);\n      document.body.appendChild(div);\n\n      const buffers = [];\n      let downloaded = 0;\n\n      const channel = await google.colab.kernel.comms.open(id);\n      // Send a message to notify the kernel that we're ready.\n      channel.send({})\n\n      for await (const message of channel.messages) {\n        // Send a message to notify the kernel that we're ready.\n        channel.send({})\n        if (message.buffers) {\n          for (const buffer of message.buffers) {\n            buffers.push(buffer);\n            downloaded += buffer.byteLength;\n            progress.value = downloaded;\n          }\n        }\n      }\n      const blob = new Blob(buffers, {type: 'application/binary'});\n      const a = document.createElement('a');\n      a.href = window.URL.createObjectURL(blob);\n      a.download = filename;\n      div.appendChild(a);\n      a.click();\n      div.remove();\n    }\n  ",
            "text/plain": [
              "<IPython.core.display.Javascript object>"
            ]
          },
          "metadata": {},
          "output_type": "display_data"
        },
        {
          "data": {
            "application/javascript": "download(\"download_74db497d-166c-45ab-abcf-ad8cf4ed749b\", \"best_model.zip\", 556101054)",
            "text/plain": [
              "<IPython.core.display.Javascript object>"
            ]
          },
          "metadata": {},
          "output_type": "display_data"
        }
      ],
      "source": [
        "from google.colab import files\n",
        "files.download(\"best_model.zip\")"
      ]
    },
    {
      "cell_type": "code",
      "execution_count": null,
      "metadata": {
        "id": "baX3yFYze3d1"
      },
      "outputs": [],
      "source": [
        "_ = !unzip best_model.zip"
      ]
    },
    {
      "cell_type": "code",
      "execution_count": null,
      "metadata": {
        "id": "bzhIx9o8b50A"
      },
      "outputs": [],
      "source": [
        "# Loading the pretrained models\n",
        "model_bert = AutoModelForSequenceClassification.from_pretrained(\"best_model/\")\n",
        "tokenizer = AutoTokenizer.from_pretrained(\"best_model/\")"
      ]
    },
    {
      "cell_type": "code",
      "execution_count": null,
      "metadata": {
        "id": "T-8mv9OzcUHH"
      },
      "outputs": [],
      "source": [
        "model_bert.eval()\n",
        "pred_bert = []\n",
        "labels_bert = []\n",
        "\n",
        "for batch in test_dataloader:\n",
        "    batch = {k: v.to(model_bert.device) for k, v in batch.items()}\n",
        "\n",
        "    with torch.no_grad():\n",
        "        outputs = model_bert(**batch)\n",
        "\n",
        "    logits = outputs.logits\n",
        "    predictions = torch.argmax(logits, dim=-1)\n",
        "\n",
        "    pred_bert.extend(predictions.cpu().tolist())\n",
        "    labels_bert.extend(batch[\"labels\"].cpu().tolist())"
      ]
    },
    {
      "cell_type": "code",
      "execution_count": null,
      "metadata": {
        "colab": {
          "base_uri": "https://localhost:8080/"
        },
        "id": "vSCdzIPCd19F",
        "outputId": "a2759387-ec2b-467a-dd10-358551682a6c"
      },
      "outputs": [
        {
          "name": "stdout",
          "output_type": "stream",
          "text": [
            "              precision    recall  f1-score   support\n",
            "\n",
            "     Neutral       0.67      0.68      0.68      1610\n",
            "    Negative       0.77      0.74      0.76      1561\n",
            "    Positive       0.78      0.79      0.78      1556\n",
            "\n",
            "    accuracy                           0.74      4727\n",
            "   macro avg       0.74      0.74      0.74      4727\n",
            "weighted avg       0.74      0.74      0.74      4727\n",
            "\n"
          ]
        }
      ],
      "source": [
        "from sklearn.metrics import classification_report\n",
        "\n",
        "print(classification_report(labels_bert, pred_bert, target_names=model_bert.config.id2label.values()))"
      ]
    },
    {
      "cell_type": "code",
      "execution_count": null,
      "metadata": {
        "colab": {
          "base_uri": "https://localhost:8080/"
        },
        "id": "tYYKOq_NeqrL",
        "outputId": "429f4036-d138-4607-c210-32723c078a8d"
      },
      "outputs": [
        {
          "name": "stdout",
          "output_type": "stream",
          "text": [
            "ModernBERT - macro F1 score: 0.7380\n"
          ]
        }
      ],
      "source": [
        "macro_f1_bert = f1_score(labels_bert, pred_bert, average='macro')\n",
        "print(f\"ModernBERT - macro F1 score: {macro_f1_bert:.4f}\")"
      ]
    },
    {
      "cell_type": "code",
      "execution_count": null,
      "metadata": {
        "colab": {
          "base_uri": "https://localhost:8080/",
          "height": 472
        },
        "id": "sDtqG7TehpIH",
        "outputId": "2c1e095d-2d5e-417f-8c6a-1d2b91e16e4a"
      },
      "outputs": [
        {
          "data": {
            "image/png": "[encoded data removed]",
            "text/plain": [
              "<Figure size 640x480 with 2 Axes>"
            ]
          },
          "metadata": {},
          "output_type": "display_data"
        }
      ],
      "source": [
        "cm_bert = confusion_matrix(labels_bert, pred_bert)\n",
        "\n",
        "disp = ConfusionMatrixDisplay(confusion_matrix=cm_bert, display_labels=label2id)\n",
        "disp.plot(cmap=plt.cm.Greens)\n",
        "plt.title(\"Confusion Matrix - ModernBERT\")\n",
        "plt.show()"
      ]
    }
  ],
  "metadata": {
    "colab": {
      "provenance": [],
      "toc_visible": true
    },
    "kernelspec": {
      "display_name": "base",
      "language": "python",
      "name": "python3"
    },
    "language_info": {
      "codemirror_mode": {
        "name": "ipython",
        "version": 3
      },
      "file_extension": ".py",
      "mimetype": "text/x-python",
      "name": "python",
      "nbconvert_exporter": "python",
      "pygments_lexer": "ipython3",
      "version": "3.12.4"
    }
  },
  "nbformat": 4,
  "nbformat_minor": 0
}